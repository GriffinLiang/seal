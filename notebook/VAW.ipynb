{
 "cells": [
  {
   "cell_type": "markdown",
   "id": "a5f834bc",
   "metadata": {},
   "source": [
    "# load data"
   ]
  },
  {
   "cell_type": "code",
   "execution_count": 1,
   "id": "cb25462d",
   "metadata": {},
   "outputs": [],
   "source": [
    "import numpy as np\n",
    "import os.path as osp\n",
    "import json\n",
    "\n",
    "dataset_path = '/data/liangkongming/data/vaw_dataset/data'\n",
    "\n",
    "with open(osp.join(dataset_path, 'object_index.json')) as f:\n",
    "        object_index = json.load(f)\n",
    "        \n",
    "with open(osp.join(dataset_path, 'attribute_index.json')) as f:\n",
    "        attribute_index = json.load(f)\n",
    "        \n",
    "anno = {}\n",
    "for s in ['train', 'val', 'test']:\n",
    "    with open(osp.join(dataset_path, '{}.json'.format(s))) as f:\n",
    "        anno[s] = json.load(f)\n",
    "anno_list = anno['train'] + anno['val'] + anno['test']"
   ]
  },
  {
   "cell_type": "code",
   "execution_count": 123,
   "id": "2e2ba52a",
   "metadata": {},
   "outputs": [],
   "source": [
    "# OA_matrix = np.zeros((len(object_index), len(attribute_index)))\n",
    "match_num = 0\n",
    "un_match_num = 0\n",
    "for anno_image in anno_list:\n",
    "    object_name = anno_image['object_name']\n",
    "    if object_name in match_list:\n",
    "        match_num += 1\n",
    "    else:\n",
    "        un_match_num += 1\n",
    "#     positive_attributes = anno_image['positive_attributes']\n",
    "#     negative_attributes = anno_image['negative_attributes']\n",
    "#     attributes = positive_attributes + negative_attributes\n",
    "#     for a in attributes:\n",
    "#         OA_matrix[object_index[object_name], attribute_index[a]] += 1"
   ]
  },
  {
   "cell_type": "code",
   "execution_count": 124,
   "id": "5583b877",
   "metadata": {},
   "outputs": [
    {
     "name": "stdout",
     "output_type": "stream",
     "text": [
      "254466 6429 260895 39.58096126924872\n",
      "1608 652 2.4662576687116564\n"
     ]
    }
   ],
   "source": [
    "print(match_num, un_match_num, len(anno_list), match_num / un_match_num)\n",
    "print(len(match_list), len(un_match_list), len(match_list) / len(un_match_list))"
   ]
  },
  {
   "cell_type": "code",
   "execution_count": 122,
   "id": "a9338d34",
   "metadata": {},
   "outputs": [
    {
     "name": "stdout",
     "output_type": "stream",
     "text": [
      "254457 6438 260895 39.52423112767941\n",
      "1608 652 2.4662576687116564\n"
     ]
    }
   ],
   "source": [
    "print(match_num, un_match_num, len(anno_list), match_num / un_match_num)\n",
    "print(len(match_list), len(un_match_list), len(match_list) / len(un_match_list))"
   ]
  },
  {
   "cell_type": "markdown",
   "id": "e1611602",
   "metadata": {},
   "source": [
    "# select objects"
   ]
  },
  {
   "cell_type": "code",
   "execution_count": 109,
   "id": "c865ed1e",
   "metadata": {},
   "outputs": [],
   "source": [
    "from tqdm import tqdm\n",
    "from nltk.corpus import wordnet as wn\n",
    "from nltk.stem import WordNetLemmatizer\n",
    "\n",
    "wnl = WordNetLemmatizer()"
   ]
  },
  {
   "cell_type": "code",
   "execution_count": 112,
   "id": "dd698c10",
   "metadata": {},
   "outputs": [
    {
     "name": "stdout",
     "output_type": "stream",
     "text": [
      "1608\n"
     ]
    }
   ],
   "source": [
    "object_list = []\n",
    "for obj in object_index:\n",
    "    sss = wn.synsets(obj)\n",
    "    if len(sss) != 0:\n",
    "        object_list.append(obj)\n",
    "print(len(object_list))"
   ]
  },
  {
   "cell_type": "code",
   "execution_count": 120,
   "id": "046e952c",
   "metadata": {},
   "outputs": [
    {
     "name": "stdout",
     "output_type": "stream",
     "text": [
      "cloudy none\n",
      "contain none\n",
      "dark-haired none\n",
      "faced none\n",
      "fenced none\n",
      "icer none\n",
      "photographing none\n",
      "shelve none\n",
      "1600\n"
     ]
    }
   ],
   "source": [
    "match_list_v1 = []\n",
    "for obj in match_list:\n",
    "    s = wn.synsets(obj)[0]\n",
    "    lch = wn.synset('entity.n.01').lowest_common_hypernyms(s)\n",
    "    if len(lch) == 0:\n",
    "        print(obj, 'none')\n",
    "    else:\n",
    "        match_list_v1.append(obj)\n",
    "print(len(match_list_v1))"
   ]
  },
  {
   "cell_type": "code",
   "execution_count": 130,
   "id": "b4efb9ff",
   "metadata": {},
   "outputs": [],
   "source": [
    "for o1 in match_list_v1:\n",
    "    s1 = wn.synsets(o1)[0]\n",
    "    for o2 in match_list_v1:\n",
    "        s2 = wn.synsets(o2)[0]\n",
    "        lch = s1.lowest_common_hypernyms(s2)\n",
    "        if s1 == lch[0]:\n",
    "            print(o1, s1, o2, s2)"
   ]
  },
  {
   "cell_type": "code",
   "execution_count": 103,
   "id": "d7dccbc2",
   "metadata": {},
   "outputs": [
    {
     "name": "stderr",
     "output_type": "stream",
     "text": [
      "[nltk_data] Downloading package averaged_perceptron_tagger to\n",
      "[nltk_data]     /home/liangkongming/nltk_data...\n",
      "[nltk_data]   Unzipping taggers/averaged_perceptron_tagger.zip.\n"
     ]
    },
    {
     "data": {
      "text/plain": [
       "True"
      ]
     },
     "execution_count": 103,
     "metadata": {},
     "output_type": "execute_result"
    }
   ],
   "source": [
    "import nltk\n",
    "nltk.download('averaged_perceptron_tagger')"
   ]
  },
  {
   "cell_type": "code",
   "execution_count": 106,
   "id": "f4212489",
   "metadata": {},
   "outputs": [
    {
     "data": {
      "text/plain": [
       "[('cloudy', 'NN')]"
      ]
     },
     "execution_count": 106,
     "metadata": {},
     "output_type": "execute_result"
    }
   ],
   "source": [
    "import nltk\n",
    "# wnl.lemmatize('cloudy', \"n\"), wn.synsets('cloudy'), nltk.pos_tag('cloudy')\n",
    "nltk.pos_tag(['cloudy'])"
   ]
  },
  {
   "cell_type": "code",
   "execution_count": 74,
   "id": "3dbba1a5",
   "metadata": {},
   "outputs": [
    {
     "name": "stdout",
     "output_type": "stream",
     "text": [
      "animals antelope\n",
      "[Synset('animal.n.01')] [Synset('antelope.n.01')]\n"
     ]
    }
   ],
   "source": [
    "a = match_list[10]\n",
    "b = match_list[12]\n",
    "print(a, b)\n",
    "print(wn.synsets(a), wn.synsets(b))"
   ]
  },
  {
   "cell_type": "code",
   "execution_count": 83,
   "id": "305707aa",
   "metadata": {},
   "outputs": [
    {
     "data": {
      "text/plain": [
       "[Synset('five.n.01'), Synset('five.s.01')]"
      ]
     },
     "execution_count": 83,
     "metadata": {},
     "output_type": "execute_result"
    }
   ],
   "source": [
    "wn.synsets(match_list[0])"
   ]
  },
  {
   "cell_type": "code",
   "execution_count": 84,
   "id": "30df730b",
   "metadata": {},
   "outputs": [
    {
     "data": {
      "text/plain": [
       "[Synset('entity.n.01')]"
      ]
     },
     "execution_count": 84,
     "metadata": {},
     "output_type": "execute_result"
    }
   ],
   "source": [
    "wn.synset('five.n.01').lowest_common_hypernyms(wn.synset('antelope.n.01'))"
   ]
  },
  {
   "cell_type": "code",
   "execution_count": 82,
   "id": "f849cfa6",
   "metadata": {},
   "outputs": [
    {
     "data": {
      "text/plain": [
       "[Synset('animal.n.01')]"
      ]
     },
     "execution_count": 82,
     "metadata": {},
     "output_type": "execute_result"
    }
   ],
   "source": [
    "wn.synset('animal.n.01').lowest_common_hypernyms(wn.synset('antelope.n.01'))"
   ]
  }
 ],
 "metadata": {
  "kernelspec": {
   "display_name": "kgva",
   "language": "python",
   "name": "kgva"
  },
  "language_info": {
   "codemirror_mode": {
    "name": "ipython",
    "version": 3
   },
   "file_extension": ".py",
   "mimetype": "text/x-python",
   "name": "python",
   "nbconvert_exporter": "python",
   "pygments_lexer": "ipython3",
   "version": "3.8.15"
  },
  "toc": {
   "base_numbering": 1,
   "nav_menu": {},
   "number_sections": true,
   "sideBar": true,
   "skip_h1_title": false,
   "title_cell": "Table of Contents",
   "title_sidebar": "Contents",
   "toc_cell": false,
   "toc_position": {},
   "toc_section_display": true,
   "toc_window_display": true
  }
 },
 "nbformat": 4,
 "nbformat_minor": 5
}
