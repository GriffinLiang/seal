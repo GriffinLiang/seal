{
 "cells": [
  {
   "attachments": {},
   "cell_type": "markdown",
   "id": "cd71ab66",
   "metadata": {},
   "source": [
    "## 读取VAW-Clean"
   ]
  },
  {
   "cell_type": "code",
   "execution_count": 1,
   "id": "cdd0d24c",
   "metadata": {},
   "outputs": [],
   "source": [
    "import json\n",
    "import os.path as osp\n",
    "import numpy as np\n",
    "\n",
    "data_path = '/data/liangkongming/code/KGVA/data/wxr/VAW_Clean_0_1/data'\n",
    "\n",
    "with open(osp.join(data_path, 'object_index.json')) as f:\n",
    "    object_index = json.load(f)\n",
    "    \n",
    "with open(osp.join(data_path, 'attribute_index.json')) as f:\n",
    "    attribute_index = json.load(f)\n",
    "\n",
    "object_index_reversed = {v:k for k, v in object_index.items()}\n",
    "attribute_index_reversed = {v:k for k, v in attribute_index.items()}\n",
    "\n",
    "anno = {}\n",
    "for stage in ['train', 'val', 'test']:\n",
    "    with open(osp.join(data_path, '{}.json'.format(stage))) as f:\n",
    "        anno[stage] = json.load(f)"
   ]
  },
  {
   "cell_type": "code",
   "execution_count": 2,
   "id": "a5e80d7f",
   "metadata": {},
   "outputs": [
    {
     "name": "stdout",
     "output_type": "stream",
     "text": [
      "1763 591\n"
     ]
    }
   ],
   "source": [
    "num_obj = len(object_index)\n",
    "num_att = len(attribute_index)\n",
    "print(num_obj, num_att)"
   ]
  },
  {
   "attachments": {},
   "cell_type": "markdown",
   "id": "88ff4254",
   "metadata": {},
   "source": [
    "## 生成OA关系"
   ]
  },
  {
   "cell_type": "code",
   "execution_count": 3,
   "id": "d766c3e1",
   "metadata": {},
   "outputs": [],
   "source": [
    "def calculate_num(anno_list, num_obj, num_att):\n",
    "    obj_att_anno_pos = np.zeros((num_obj, num_att))\n",
    "    obj_att_anno_neg = np.zeros((num_obj, num_att))\n",
    "    obj_counter = np.zeros((num_obj))\n",
    "\n",
    "    for anno_image in anno_list:\n",
    "        object_name = anno_image['object_name']\n",
    "        positive_attributes = anno_image['positive_attributes']\n",
    "        negative_attributes = anno_image['negative_attributes']\n",
    "        object_index_image = object_index[object_name]\n",
    "        obj_counter[object_index_image] += 1\n",
    "        for att in positive_attributes:\n",
    "            attribute_index_image = attribute_index[att]\n",
    "            obj_att_anno_pos[object_index_image, attribute_index_image] += 1\n",
    "        for att in negative_attributes:\n",
    "            attribute_index_image = attribute_index[att]\n",
    "            obj_att_anno_neg[object_index_image, attribute_index_image] +=1\n",
    "    return obj_att_anno_pos, obj_att_anno_neg, obj_counter\n",
    "\n",
    "oa_anno_pos_train, oa_anno_neg_train, obj_counter_train = calculate_num(\n",
    "    anno['train'], num_obj, num_att\n",
    ")"
   ]
  },
  {
   "cell_type": "code",
   "execution_count": 4,
   "id": "7ac811db",
   "metadata": {},
   "outputs": [
    {
     "name": "stdout",
     "output_type": "stream",
     "text": [
      "997 6950\n",
      "0.14345323741007193\n"
     ]
    }
   ],
   "source": [
    "oa_anno_pos_val, oa_anno_neg_val, obj_counter_val = calculate_num(\n",
    "    anno['val'], num_obj, num_att\n",
    ")\n",
    "print(((oa_anno_pos_train == 0) * (oa_anno_pos_val != 0)).sum() , (oa_anno_pos_val != 0).sum())\n",
    "print(((oa_anno_pos_train == 0) * (oa_anno_pos_val != 0)).sum() / (oa_anno_pos_val != 0).sum())"
   ]
  },
  {
   "cell_type": "code",
   "execution_count": 5,
   "id": "4d5e7465",
   "metadata": {},
   "outputs": [
    {
     "name": "stdout",
     "output_type": "stream",
     "text": [
      "2873 12697\n",
      "0.22627392297393084\n"
     ]
    }
   ],
   "source": [
    "oa_anno_pos_test, oa_anno_neg_test, obj_counter_test = calculate_num(\n",
    "    anno['test'], num_obj, num_att\n",
    ")\n",
    "print(((oa_anno_pos_train == 0) * (oa_anno_pos_test != 0)).sum() , (oa_anno_pos_test != 0).sum())\n",
    "print(((oa_anno_pos_train == 0) * (oa_anno_pos_test != 0)).sum() / (oa_anno_pos_test != 0).sum())"
   ]
  },
  {
   "attachments": {},
   "cell_type": "markdown",
   "id": "7b62b41b",
   "metadata": {},
   "source": [
    "## 使用OA关系识别affordable属性"
   ]
  },
  {
   "cell_type": "code",
   "execution_count": 6,
   "id": "c171f589",
   "metadata": {},
   "outputs": [],
   "source": [
    "oa_anno_pos = oa_anno_pos_train + oa_anno_pos_val + oa_anno_pos_test\n",
    "oa_anno_neg = oa_anno_neg_train + oa_anno_neg_val + oa_anno_neg_test\n",
    "\n",
    "valid_att_per_obj = {}\n",
    "for ii in range(num_obj):\n",
    "    valid_att_list = []\n",
    "    valid_att = np.where((oa_anno_pos[ii]+oa_anno_neg[ii]) > 0)[0]\n",
    "    for jj in valid_att:\n",
    "        valid_att_list.append(attribute_index_reversed[jj])\n",
    "    valid_att_per_obj[object_index_reversed[ii]] = valid_att_list\n",
    "\n",
    "def check_affordable_att(anno_image, valid_att_per_obj):\n",
    "    object_name = anno_image['object_name']\n",
    "    positive_attributes = anno_image['positive_attributes']\n",
    "    negative_attributes = anno_image['negative_attributes']\n",
    "    valid_att = valid_att_per_obj[object_name]\n",
    "    for att in positive_attributes + negative_attributes:\n",
    "        assert(att in valid_att)\n",
    "        \n",
    "for anno_image in anno['train']+anno['val']+anno['test']:\n",
    "    check_affordable_att(anno_image, valid_att_per_obj)"
   ]
  },
  {
   "cell_type": "code",
   "execution_count": 8,
   "id": "a115dae6",
   "metadata": {},
   "outputs": [],
   "source": [
    "input_path = '/data/liangkongming/code/KGVA/data/wxr/VAW_Clean_0_1/data'\n",
    "\n",
    "with open(osp.join(input_path, 'train.json')) as f:\n",
    "    anno_train = json.load(f)\n",
    "\n",
    "print(len(anno_train))"
   ]
  },
  {
   "cell_type": "code",
   "execution_count": 76,
   "id": "42c7764d",
   "metadata": {},
   "outputs": [],
   "source": [
    "def add_affordable_att(anno_list, valid_att_per_obj):\n",
    "    anno_output = []\n",
    "    for anno_image in anno_list:\n",
    "        object_name = anno_image['object_name']\n",
    "        positive_attributes = anno_image['positive_attributes']\n",
    "        negative_attributes = anno_image['negative_attributes']\n",
    "        anno_image['candidate_attributes'] = []\n",
    "        valid_att = valid_att_per_obj[object_name]\n",
    "        for att in valid_att:\n",
    "            if att not in positive_attributes and att not in negative_attributes:\n",
    "                anno_image['candidate_attributes'].append(att)\n",
    "        anno_output.append(anno_image)\n",
    "    return anno_output\n",
    "\n",
    "anno_output = add_affordable_att(anno_train, valid_att_per_obj)"
   ]
  },
  {
   "cell_type": "code",
   "execution_count": 10,
   "id": "e5285988",
   "metadata": {},
   "outputs": [],
   "source": [
    "output_path = '/data/liangkongming/code/KGVA/data/wxr/VAW_Clean_0_1/data-aug'\n",
    "with open(osp.join(output_path, 'train.json'), 'w') as f:\n",
    "    json.dump(anno_output, f)\n",
    "\n",
    "with open(osp.join(output_path, 'train.json')) as f:\n",
    "    anno_train = json.load(f)"
   ]
  },
  {
   "cell_type": "code",
   "execution_count": 19,
   "id": "3701fd17",
   "metadata": {},
   "outputs": [],
   "source": [
    "data_idx = 10000\n",
    "print(anno_train[data_idx]['object_name'])\n",
    "for k in ['positive_attributes', 'negative_attributes', 'candidate_attributes']:\n",
    "    print(k, anno_train[data_idx][k])"
   ]
  },
  {
   "attachments": {},
   "cell_type": "markdown",
   "id": "220ca5c4",
   "metadata": {},
   "source": [
    "## 利用trainval的OA关系识别affordance属性"
   ]
  },
  {
   "cell_type": "code",
   "execution_count": 100,
   "id": "c88aed0e",
   "metadata": {},
   "outputs": [],
   "source": [
    "oa_anno_pos = oa_anno_pos_train + oa_anno_pos_val\n",
    "oa_anno_neg = oa_anno_neg_train + oa_anno_neg_val\n",
    "\n",
    "valid_att_per_obj = {}\n",
    "for ii in range(num_obj):\n",
    "    valid_att_list = []\n",
    "    valid_att = np.where((oa_anno_pos[ii]+oa_anno_neg[ii]) > 0)[0]\n",
    "    for jj in valid_att:\n",
    "        valid_att_list.append(attribute_index_reversed[jj])\n",
    "    valid_att_per_obj[object_index_reversed[ii]] = valid_att_list\n",
    "\n",
    "for anno_image in anno['train']+anno['val']:\n",
    "    check_affordable_att(anno_image, valid_att_per_obj)"
   ]
  },
  {
   "cell_type": "code",
   "execution_count": 101,
   "id": "b6936e3b",
   "metadata": {},
   "outputs": [
    {
     "name": "stdout",
     "output_type": "stream",
     "text": [
      "141104\n"
     ]
    }
   ],
   "source": [
    "input_path = '../data/VAW/clean_data'\n",
    "\n",
    "with open(osp.join(input_path, 'train.json')) as f:\n",
    "    anno_train = json.load(f)\n",
    "    \n",
    "anno_output = add_affordable_att(anno_train, valid_att_per_obj)\n",
    "print(len(anno_train))"
   ]
  },
  {
   "cell_type": "code",
   "execution_count": 102,
   "id": "6f351402",
   "metadata": {},
   "outputs": [],
   "source": [
    "output_path = '../data/VAW/data-trainval'\n",
    "with open(osp.join(output_path, 'train.json'), 'w') as f:\n",
    "    json.dump(anno_output, f)\n",
    "\n",
    "with open(osp.join(output_path, 'train.json')) as f:\n",
    "    anno_train = json.load(f)"
   ]
  },
  {
   "cell_type": "code",
   "execution_count": 103,
   "id": "4e75762b",
   "metadata": {},
   "outputs": [
    {
     "name": "stdout",
     "output_type": "stream",
     "text": [
      "jeans\n",
      "positive_attributes ['blue']\n",
      "negative_attributes ['dark blue']\n",
      "candidate_attributes ['baggy', 'beige', 'black', 'blue plaid', 'blue striped', 'brown', 'camouflage', 'clean', 'dark', 'dark gray', 'denim', 'dirty', 'faded', 'folded', 'golden brown', 'gray', 'green', 'hanging', 'high', 'holed', 'large', 'light blue', 'light gray', 'long', 'many', 'new', 'orange', 'rolled up', 'short', 'skinny', 'sunlit', 'tan', 'thin', 'tight', 'white', 'wrinkled']\n"
     ]
    }
   ],
   "source": [
    "data_idx = 10000\n",
    "print(anno_train[data_idx]['object_name'])\n",
    "for k in ['positive_attributes', 'negative_attributes', 'candidate_attributes']:\n",
    "    print(k, anno_train[data_idx][k])"
   ]
  },
  {
   "cell_type": "code",
   "execution_count": 107,
   "id": "6e434a4c",
   "metadata": {},
   "outputs": [],
   "source": [
    "# output_path = '/data/liangkongming/code/KGVA/data/wxr/VAW_Clean_0_1/data-kn'\n",
    "# with open(osp.join(output_path, 'train.json')) as f:\n",
    "#     anno_train_kn = json.load(f)\n",
    "    \n",
    "output_path = '../data/VAW/data-kn'\n",
    "with open(osp.join(output_path, 'train.json')) as f:\n",
    "    anno_train_kn = json.load(f)\n",
    "    \n",
    "output_path = '../data/VAW/data-trainval'\n",
    "with open(osp.join(output_path, 'train.json')) as f:\n",
    "    anno_train_trainval = json.load(f)\n",
    "    \n",
    "output_path = '../data/VAW/data-aug'\n",
    "with open(osp.join(output_path, 'train.json')) as f:\n",
    "    anno_train_trainvaltest = json.load(f)"
   ]
  },
  {
   "cell_type": "code",
   "execution_count": 111,
   "id": "7676c36f",
   "metadata": {},
   "outputs": [
    {
     "name": "stdout",
     "output_type": "stream",
     "text": [
      "175 182\n",
      "175 182\n",
      "113 116\n",
      "114 117\n",
      "113 116\n",
      "114 117\n",
      "173 180\n",
      "175 182\n",
      "112 115\n",
      "111 114\n",
      "174 181\n",
      "113 116\n",
      "174 181\n",
      "111 114\n",
      "175 182\n",
      "59 59\n",
      "174 181\n",
      "114 117\n",
      "175 182\n",
      "174 181\n",
      "111 114\n",
      "175 182\n",
      "111 114\n",
      "171 178\n",
      "114 117\n",
      "174 181\n",
      "111 114\n",
      "108 111\n",
      "174 181\n",
      "114 117\n",
      "173 180\n",
      "175 182\n",
      "113 116\n",
      "175 182\n",
      "172 179\n",
      "18 21\n",
      "113 116\n",
      "175 182\n",
      "113 116\n",
      "174 181\n",
      "111 114\n",
      "175 182\n",
      "175 182\n",
      "175 182\n",
      "112 115\n",
      "112 115\n",
      "175 182\n",
      "53 54\n",
      "114 117\n",
      "113 116\n",
      "49 50\n",
      "112 115\n",
      "174 181\n",
      "111 114\n",
      "113 116\n",
      "174 181\n",
      "113 116\n",
      "60 60\n",
      "114 117\n",
      "113 116\n",
      "97 134\n",
      "113 116\n",
      "111 114\n",
      "113 116\n",
      "174 181\n",
      "114 117\n",
      "113 116\n",
      "174 181\n",
      "175 182\n",
      "172 179\n",
      "171 178\n",
      "113 116\n",
      "114 117\n",
      "173 180\n",
      "111 114\n",
      "51 61\n",
      "97 134\n",
      "97 134\n",
      "100 137\n",
      "100 137\n",
      "35 46\n",
      "174 181\n",
      "174 181\n",
      "175 182\n",
      "175 182\n",
      "175 182\n",
      "111 114\n",
      "48 59\n",
      "174 181\n",
      "174 181\n",
      "114 117\n",
      "114 117\n",
      "113 116\n",
      "112 115\n",
      "106 109\n",
      "175 182\n",
      "175 182\n",
      "175 182\n",
      "113 116\n",
      "60 60\n"
     ]
    }
   ],
   "source": [
    "# data_idx = 10000\n",
    "# print(anno_train_kn[data_idx]['object_name'])\n",
    "# for k in ['positive_attributes', 'negative_attributes']:\n",
    "#     print(k, anno_train_trainval[data_idx][k])\n",
    "for data_idx in range(len(anno_train_kn)):\n",
    "    print(len(anno_train_trainval[data_idx]['candidate_attributes']), len(anno_train_kn[data_idx]['candidate_attributes']))"
   ]
  },
  {
   "attachments": {},
   "cell_type": "markdown",
   "id": "90c34485",
   "metadata": {},
   "source": [
    "## OA组合在train、val、test上的差异\n",
    "* internal knowledge\n",
    "* external knowledge"
   ]
  },
  {
   "cell_type": "code",
   "execution_count": 20,
   "id": "42fc3615",
   "metadata": {},
   "outputs": [],
   "source": [
    "EPS = np.finfo(float).eps\n",
    "\n",
    "def normalize_array(input_array):\n",
    "    ''' normalize along x axis '''\n",
    "    output_array = input_array / (np.sqrt((input_array **2).sum(axis = 1))[:, np.newaxis] + EPS)\n",
    "    return output_array"
   ]
  },
  {
   "cell_type": "code",
   "execution_count": 21,
   "id": "fc183cd3",
   "metadata": {},
   "outputs": [],
   "source": [
    "oa_trainval_flag = (oa_anno_pos_train + oa_anno_neg_train + oa_anno_pos_val + oa_anno_neg_val) > 0\n",
    "oa_test_flag = (oa_anno_pos_test + oa_anno_neg_test) > 0"
   ]
  },
  {
   "attachments": {},
   "cell_type": "markdown",
   "id": "2eb2b705",
   "metadata": {},
   "source": [
    "### co-occurence"
   ]
  },
  {
   "cell_type": "code",
   "execution_count": 27,
   "id": "a3cf3b55",
   "metadata": {},
   "outputs": [],
   "source": [
    "oa_trainval_norm = normalize_array(oa_trainval_flag)\n",
    "obj_corr_internal = oa_trainval_norm.astype(float) @ oa_trainval_norm.astype(float).T"
   ]
  },
  {
   "attachments": {},
   "cell_type": "markdown",
   "id": "01c34e01",
   "metadata": {},
   "source": [
    "### embedding"
   ]
  },
  {
   "cell_type": "code",
   "execution_count": 28,
   "id": "61723063",
   "metadata": {},
   "outputs": [],
   "source": [
    "# 生成vawc的embedding\n",
    "import torch\n",
    "\n",
    "embed_path = '../data/embeddings/clip_obj_embs_d512.pth'\n",
    "# embed_path = '../data/embeddings/bert_obj_embs_d768.pth'\n",
    "# embed_path = '../data/embeddings/embeddings/glove_obj_embs_d100.pth'\n",
    "with open('../data/VAW/data/object_index.json') as f:\n",
    "    object_index_origin = json.load(f)\n",
    "    \n",
    "obj_emb_origin = torch.load(embed_path).numpy()\n",
    "obj_emb = np.zeros((num_obj, obj_emb_origin.shape[1]),  dtype=obj_emb_origin.dtype)\n",
    "for ii in range(num_obj):\n",
    "    object_name = object_index_reversed[ii]\n",
    "    obj_emb[ii] = obj_emb_origin[object_index_origin[object_name]]\n",
    "obj_emb = normalize_array(obj_emb)\n",
    "obj_corr_external = obj_emb.astype(float) @ obj_emb.astype(float).T"
   ]
  },
  {
   "cell_type": "code",
   "execution_count": 31,
   "id": "6fb30f4d",
   "metadata": {},
   "outputs": [],
   "source": [
    "# save one-hot embedding\n",
    "\n",
    "# embed_path = '/data/liangkongming/code/KGVA/data/wxr/embeddings/onehot_obj_embs_d2260.pth'\n",
    "# onehot_embed = torch.load(embed_path)\n",
    "# onehot_embed_out = onehot_embed[0:num_obj, 0:num_obj]\n",
    "# torch.save(\n",
    "#     onehot_embed_out,\n",
    "#     '/data/liangkongming/code/KGVA/data/wxr/embeddings/onehot_obj_embs_d1763.pth'\n",
    "# )"
   ]
  },
  {
   "attachments": {},
   "cell_type": "markdown",
   "id": "1f30e968",
   "metadata": {},
   "source": [
    "### merge knowledge"
   ]
  },
  {
   "cell_type": "code",
   "execution_count": 34,
   "id": "5683cbc9",
   "metadata": {},
   "outputs": [],
   "source": [
    "def get_att_IoU(list1, list2):\n",
    "    inter_att = (list1 & list2).sum()\n",
    "    union_att = (list1 | list2).sum()\n",
    "    return inter_att, union_att"
   ]
  },
  {
   "cell_type": "code",
   "execution_count": 146,
   "id": "17caaa98",
   "metadata": {},
   "outputs": [
    {
     "name": "stdout",
     "output_type": "stream",
     "text": [
      "26 GT: 68 Add, 1117\n"
     ]
    }
   ],
   "source": [
    "# obj_correlation1_norm = normalize_array(obj_corr_internal)\n",
    "# obj_correlation2_norm = normalize_array(obj_corr_external)\n",
    "# obj_correlation = np.maximum(obj_correlation1_norm, obj_correlation2_norm)\n",
    "oa_flag = np.zeros_like(oa_trainval_flag).astype(np.uint8)\n",
    "output = []\n",
    "for ii in range(num_obj):\n",
    "    inter_att, union_att = get_att_IoU(oa_trainval_flag[ii], oa_test_flag[ii])\n",
    "    \n",
    "    TOP_K = 10\n",
    "    sorted_index = np.argsort(obj_corr_internal[ii])\n",
    "    top_k_1 = set(sorted_index[-TOP_K:][::-1])\n",
    "    sorted_index = np.argsort(obj_corr_external[ii])\n",
    "    top_k_2 = set(sorted_index[-TOP_K:][::-1])\n",
    "    for o in top_k_1.intersection(top_k_2):\n",
    "        if o != ii:\n",
    "            oa_flag[ii] += oa_trainval_flag[o]\n",
    "    oa_flag[ii] = (oa_flag[ii] >= 1) + oa_trainval_flag[ii]\n",
    "    \n",
    "    inter_att_aug, union_att_aug = get_att_IoU(oa_flag[ii], oa_test_flag[ii])\n",
    "    if inter_att_aug > inter_att:\n",
    "        output.append([object_index_reversed[ii], inter_att, inter_att_aug])\n",
    "#     break\n",
    "\n",
    "a = (oa_trainval_flag * oa_test_flag).sum()\n",
    "b = (oa_flag * oa_test_flag).sum()\n",
    "print(len(output), 'GT:', int(b - a), 'Add,', int(oa_flag.sum() - oa_trainval_flag.sum()))"
   ]
  },
  {
   "cell_type": "code",
   "execution_count": 172,
   "id": "9efd7f15",
   "metadata": {},
   "outputs": [
    {
     "name": "stdout",
     "output_type": "stream",
     "text": [
      "421 GT: 1310 Add, 37965\n"
     ]
    }
   ],
   "source": [
    "# obj_correlation1_norm = normalize_array(obj_corr_internal)\n",
    "# obj_correlation2_norm = normalize_array(obj_corr_external)\n",
    "# obj_correlation = np.maximum(obj_correlation1_norm, obj_correlation2_norm)\n",
    "oa_flag = np.zeros_like(oa_trainval_flag).astype(np.uint8)\n",
    "output = []\n",
    "for ii in range(num_obj):\n",
    "    inter_att, union_att = get_att_IoU(oa_trainval_flag[ii], oa_test_flag[ii])\n",
    "    \n",
    "    TOP_K = 2\n",
    "    sorted_index = np.argsort(obj_corr_internal[ii])\n",
    "    top_k_list = sorted_index[-TOP_K:][::-1]\n",
    "    for o in top_k_list:\n",
    "        if o != ii:\n",
    "            oa_flag[ii] += oa_trainval_flag[o]\n",
    "    \n",
    "    TOP_K = 2\n",
    "    sorted_index = np.argsort(obj_corr_external[ii])\n",
    "    top_k_list = sorted_index[-TOP_K:][::-1]\n",
    "    for o in top_k_list:\n",
    "        if o != ii:\n",
    "            oa_flag[ii] += oa_trainval_flag[o]\n",
    "#     print(oa_flag.max(), (oa_flag==2).sum())\n",
    "    oa_flag[ii] = (oa_flag[ii] >= 1) + oa_trainval_flag[ii]\n",
    "    \n",
    "    inter_att_aug, union_att_aug = get_att_IoU(oa_flag[ii], oa_test_flag[ii])\n",
    "#     print(inter_att, inter_att_aug)\n",
    "    if inter_att_aug > inter_att:\n",
    "        output.append([object_index_reversed[ii], inter_att, inter_att_aug])\n",
    "#     break\n",
    "\n",
    "a = (oa_trainval_flag * oa_test_flag).sum()\n",
    "b = (oa_flag * oa_test_flag).sum()\n",
    "print(len(output), 'GT:', int(b - a), 'Add,', int(oa_flag.sum() - oa_trainval_flag.sum()))"
   ]
  },
  {
   "attachments": {},
   "cell_type": "markdown",
   "id": "093a8270",
   "metadata": {},
   "source": [
    "Trainval: 27756, Test: 24083, IoU: 18348\n",
    "IK: 305  944  7640\n",
    "EK:  84   85  6986\n",
    "IE: 402 1169 18416\n",
    "IE: 216  470  4821\n",
    "IE:  51   67  1216"
   ]
  },
  {
   "cell_type": "code",
   "execution_count": null,
   "id": "1c1e5376",
   "metadata": {},
   "outputs": [],
   "source": []
  },
  {
   "cell_type": "code",
   "execution_count": null,
   "id": "39352114",
   "metadata": {},
   "outputs": [],
   "source": []
  },
  {
   "cell_type": "code",
   "execution_count": null,
   "id": "aeb3a52f",
   "metadata": {},
   "outputs": [],
   "source": [
    "IE:  51   67  1216"
   ]
  },
  {
   "cell_type": "code",
   "execution_count": 205,
   "id": "1ee6e22e",
   "metadata": {},
   "outputs": [
    {
     "name": "stdout",
     "output_type": "stream",
     "text": [
      "3 2\n",
      "275 GT: 687 Add, 8636\n"
     ]
    }
   ],
   "source": [
    "def get_oa_flag(TOP_K, thres):\n",
    "    oa_flag = np.zeros_like(oa_trainval_flag).astype(np.uint8)\n",
    "    output = []\n",
    "    for ii in range(num_obj):\n",
    "        inter_att, union_att = get_att_IoU(oa_trainval_flag[ii], oa_test_flag[ii])\n",
    "\n",
    "        sorted_index = np.argsort(obj_corr_internal[ii])\n",
    "        top_k_list = sorted_index[-TOP_K:][::-1]\n",
    "        for o in top_k_list:\n",
    "            if o != ii:\n",
    "                oa_flag[ii] += oa_trainval_flag[o]\n",
    "\n",
    "        sorted_index = np.argsort(obj_corr_external[ii])\n",
    "        top_k_list = sorted_index[-TOP_K:][::-1]\n",
    "        for o in top_k_list:\n",
    "            if o != ii:\n",
    "                oa_flag[ii] += oa_trainval_flag[o]\n",
    "        oa_flag[ii] = (oa_flag[ii] >= thres) + oa_trainval_flag[ii]\n",
    "\n",
    "        inter_att_aug, union_att_aug = get_att_IoU(oa_flag[ii], oa_test_flag[ii])\n",
    "        if inter_att_aug > inter_att:\n",
    "            output.append([object_index_reversed[ii], inter_att, inter_att_aug])\n",
    "\n",
    "    a = (oa_trainval_flag * oa_test_flag).sum()\n",
    "    b = (oa_flag * oa_test_flag).sum()\n",
    "    print(len(output), 'GT:', int(b - a), 'Add,', int(oa_flag.sum() - oa_trainval_flag.sum()))\n",
    "    return oa_flag\n",
    "\n",
    "def get_valid_att_per_obj(oa_flag):\n",
    "    valid_att_per_obj = {}\n",
    "    for ii in range(num_obj):\n",
    "        valid_att = np.where((oa_flag[ii]) > 0)[0]\n",
    "        valid_att_list = [attribute_index_reversed[x] for x in valid_att]\n",
    "        valid_att_per_obj[object_index_reversed[ii]] = valid_att_list\n",
    "    return valid_att_per_obj\n",
    "# TOP_K = 2\n",
    "# thres = 2\n",
    "\n",
    "input_path = '/data/liangkongming/code/KGVA/data/wxr/VAW_Clean_0_1/data'\n",
    "with open(osp.join(input_path, 'train.json')) as f:\n",
    "    anno_train = json.load(f)\n",
    "    \n",
    "# for TOP_K, thres in [(2,1), (3, 2), (3, 3)]:\n",
    "for TOP_K, thres in [(3, 1)]:\n",
    "    print(TOP_K, thres)\n",
    "    oa_flag = get_oa_flag(TOP_K, thres)\n",
    "    valid_att_per_obj = get_valid_att_per_obj(oa_flag)\n",
    "    anno_output = add_affordable_att(anno_train, valid_att_per_obj)\n",
    "    output_path = '/data/liangkongming/code/KGVA/data/wxr/VAW_Clean_0_1/data-kn-{}{}'.format(TOP_K, thres)\n",
    "    with open(osp.join(output_path, 'train.json'), 'w') as f:\n",
    "        json.dump(anno_output, f)"
   ]
  },
  {
   "attachments": {},
   "cell_type": "markdown",
   "id": "d180fdbb",
   "metadata": {},
   "source": [
    "2 1\n",
    "421 GT: 1310 Add, 37965\n",
    "3 1\n",
    "566 GT: 2037 Add, 72153\n",
    "3 2\n",
    "275 GT: 687 Add, 8636\n",
    "3 3\n",
    "59 GT: 70 Add, 1062"
   ]
  },
  {
   "cell_type": "code",
   "execution_count": 188,
   "id": "677b1750",
   "metadata": {},
   "outputs": [
    {
     "name": "stdout",
     "output_type": "stream",
     "text": [
      "3 1\n",
      "257\n",
      "184\n"
     ]
    }
   ],
   "source": [
    "# for TOP_K, thres in [(2,1), (3, 2), (3, 3)]:\n",
    "for TOP_K, thres in [(3, 1)]:\n",
    "    output_path = '../data/VAW/data-kn-{}{}'.format(TOP_K, thres)\n",
    "    with open(osp.join(output_path, 'train.json')) as f:\n",
    "        anno_train = json.load(f)\n",
    "    print(TOP_K, thres)\n",
    "    print(len(anno_train[0]['candidate_attributes']))\n",
    "    print(len(anno_train[-1]['candidate_attributes']))"
   ]
  },
  {
   "cell_type": "code",
   "execution_count": 193,
   "id": "fe490e1b",
   "metadata": {},
   "outputs": [],
   "source": [
    "with open(osp.join('../data/VAW/clean_data', 'train.json')) as f:\n",
    "        anno_train1 = json.load(f)"
   ]
  },
  {
   "cell_type": "code",
   "execution_count": 194,
   "id": "b05bf367",
   "metadata": {},
   "outputs": [],
   "source": [
    "with open(osp.join('/data/liangkongming/code/KGVA/data/wxr/VAW_Clean_0_1/data-kn', 'train.json')) as f:\n",
    "        anno_train2 = json.load(f)"
   ]
  },
  {
   "cell_type": "code",
   "execution_count": 195,
   "id": "7f48637f",
   "metadata": {},
   "outputs": [],
   "source": [
    "with open(osp.join('/data/liangkongming/code/KGVA/data/wxr/VAW_Clean_0_1/data-kn-31', 'train.json')) as f:\n",
    "        anno_train3 = json.load(f)"
   ]
  },
  {
   "cell_type": "code",
   "execution_count": 198,
   "id": "2f3997f0",
   "metadata": {},
   "outputs": [
    {
     "data": {
      "text/plain": [
       "('2315871', '2315871', '2315871')"
      ]
     },
     "execution_count": 198,
     "metadata": {},
     "output_type": "execute_result"
    }
   ],
   "source": [
    "anno_train1[0]['image_id'], anno_train2[0]['image_id'], anno_train3[0]['image_id'] "
   ]
  },
  {
   "cell_type": "code",
   "execution_count": 202,
   "id": "85e394f4",
   "metadata": {},
   "outputs": [
    {
     "data": {
      "text/plain": [
       "dict_keys(['image_id', 'instance_id', 'instance_bbox', 'instance_polygon', 'object_name', 'positive_attributes', 'negative_attributes', 'candidate_attributes'])"
      ]
     },
     "execution_count": 202,
     "metadata": {},
     "output_type": "execute_result"
    }
   ],
   "source": [
    "anno_train2[0].keys()"
   ]
  },
  {
   "cell_type": "code",
   "execution_count": 204,
   "id": "93f1fd9e",
   "metadata": {},
   "outputs": [
    {
     "data": {
      "text/plain": [
       "(176, 257)"
      ]
     },
     "execution_count": 204,
     "metadata": {},
     "output_type": "execute_result"
    }
   ],
   "source": [
    "tag = 'candidate_attributes'\n",
    "# anno_train1[0][tag], \n",
    "len(anno_train2[0][tag]), len(anno_train3[0][tag])"
   ]
  },
  {
   "attachments": {},
   "cell_type": "markdown",
   "id": "76e46678",
   "metadata": {},
   "source": [
    "### save data"
   ]
  },
  {
   "cell_type": "code",
   "execution_count": 128,
   "id": "801694a7",
   "metadata": {},
   "outputs": [],
   "source": [
    "input_path = '/data/liangkongming/code/KGVA/data/wxr/VAW_Clean_0_1/data'\n",
    "\n",
    "with open(osp.join(input_path, 'train.json')) as f:\n",
    "    anno_train = json.load(f)"
   ]
  },
  {
   "cell_type": "code",
   "execution_count": 129,
   "id": "f7ec9f0d",
   "metadata": {},
   "outputs": [
    {
     "name": "stdout",
     "output_type": "stream",
     "text": [
      "141104\n",
      "141104\n"
     ]
    }
   ],
   "source": [
    "print(len(anno_train))\n",
    "anno_output = add_affordable_att(anno_train, valid_att_per_obj)\n",
    "print(len(anno_output))"
   ]
  },
  {
   "cell_type": "code",
   "execution_count": 130,
   "id": "7dbd67af",
   "metadata": {},
   "outputs": [],
   "source": [
    "output_path = '/data/liangkongming/code/KGVA/data/wxr/VAW_Clean_0_1/data-kn'\n",
    "with open(osp.join(output_path, 'train.json'), 'w') as f:\n",
    "    json.dump(anno_output, f)"
   ]
  },
  {
   "cell_type": "code",
   "execution_count": 131,
   "id": "f50f34a1",
   "metadata": {},
   "outputs": [],
   "source": [
    "with open(osp.join(output_path, 'train.json')) as f:\n",
    "    anno_train = json.load(f)"
   ]
  },
  {
   "cell_type": "code",
   "execution_count": 132,
   "id": "fb126c5b",
   "metadata": {},
   "outputs": [
    {
     "name": "stdout",
     "output_type": "stream",
     "text": [
      "bowl\n",
      "positive_attributes ['white', 'light blue', 'blue']\n",
      "negative_attributes ['stacked', 'clear']\n",
      "candidate_attributes ['almost empty', 'aluminum', 'amber', 'ancient', 'antique', 'black', 'bright', 'bright yellow', 'broken', 'brown', 'ceramic', 'circular', 'clay', 'clean', 'colorful', 'colorless', 'concrete', 'cream colored', 'curved', 'dark', 'dark blue', 'decorative', 'deep', 'dirty', 'disposable', 'empty', 'fancy', 'filled', 'flat', 'folded', 'full', 'glass', 'gray', 'green', 'half filled', 'hanging', 'hard', 'large', 'little', 'long', 'maroon', 'metal', 'mixed', 'old', 'opaque', 'open', 'orange', 'ornate', 'oval shaped', 'painted', 'paper', 'patterned', 'pink', 'plastic', 'porcelain', 'purple', 'rectangular', 'red', 'reflective', 'ridged', 'round', 'rounded', 'rusty', 'shallow', 'shining', 'shiny', 'shiny blue', 'short', 'silver', 'sitting', 'small', 'smooth', 'soft', 'square', 'stained', 'stainless', 'stainless steel', 'stone', 'striped', 'styrofoam', 'tall', 'tan', 'thick', 'tiny', 'translucent', 'transparent', 'triangular', 'turquoise', 'upside down', 'violet', 'wet', 'wicker', 'wooden', 'wrapped', 'yellow']\n"
     ]
    }
   ],
   "source": [
    "data_idx = 30000\n",
    "print(anno_train[data_idx]['object_name'])\n",
    "for k in ['positive_attributes', 'negative_attributes', 'candidate_attributes']:\n",
    "    print(k, anno_train[data_idx][k])"
   ]
  },
  {
   "attachments": {},
   "cell_type": "markdown",
   "id": "567554f2",
   "metadata": {},
   "source": [
    "### Finnish"
   ]
  },
  {
   "attachments": {},
   "cell_type": "markdown",
   "id": "80a39c0b",
   "metadata": {},
   "source": [
    "## Save Prior"
   ]
  },
  {
   "cell_type": "code",
   "execution_count": 147,
   "id": "99d85d57",
   "metadata": {},
   "outputs": [
    {
     "name": "stdout",
     "output_type": "stream",
     "text": [
      "(141104, 591)\n"
     ]
    }
   ],
   "source": [
    "train_pred = np.load('/data/liangkongming/code/KGVA/data/wxr/VAW_Clean_0_1/data-kn/train_pred.npy')\n",
    "print(train_pred.shape)\n",
    "prior = train_pred.mean(axis=0)"
   ]
  },
  {
   "cell_type": "code",
   "execution_count": 159,
   "id": "5bd07e17",
   "metadata": {},
   "outputs": [],
   "source": [
    "import pandas as pd"
   ]
  },
  {
   "cell_type": "code",
   "execution_count": 161,
   "id": "a7f180b5",
   "metadata": {},
   "outputs": [],
   "source": [
    "df_train = pd.DataFrame({\"Classes\": list(attribute_index.keys()), \"avg_pred\": prior})\n",
    "df_train.to_csv(path_or_buf=\"/data/liangkongming/code/KGVA/data/wxr/VAW_Clean_0_1/data-kn/RN50-IGNORE-PRIOR-TRAIN-VAWC.csv\",\n",
    "                        sep=',', header=True, index=False, encoding='utf-8')"
   ]
  },
  {
   "attachments": {},
   "cell_type": "markdown",
   "id": "6e6cc71f",
   "metadata": {},
   "source": [
    "## 画图"
   ]
  },
  {
   "cell_type": "code",
   "execution_count": 211,
   "id": "f1d355cd",
   "metadata": {},
   "outputs": [
    {
     "name": "stdout",
     "output_type": "stream",
     "text": [
      "275 GT: 687 Add, 8636\n"
     ]
    }
   ],
   "source": [
    "oa_flag_gt = oa_anno_pos_train + oa_anno_pos_val + oa_anno_pos_test + oa_anno_neg_train + oa_anno_neg_val + oa_anno_neg_test\n",
    "\n",
    "for TOP_K, thres in [(3, 2)]:\n",
    "    oa_flag = get_oa_flag(TOP_K, thres)"
   ]
  },
  {
   "cell_type": "code",
   "execution_count": 223,
   "id": "45db79f4",
   "metadata": {},
   "outputs": [],
   "source": [
    "oa_trainval_flag = (oa_anno_pos_train + oa_anno_neg_train + oa_anno_pos_val + oa_anno_neg_val) > 0\n",
    "oa_test_flag = oa_trainval_flag + (oa_anno_pos_test + oa_anno_neg_test) > 0\n",
    "\n",
    "output = []\n",
    "for ii in range(num_obj):\n",
    "# for ii in range(1, num_obj):\n",
    "    a = (oa_trainval_flag[ii] * oa_test_flag[ii]).sum()\n",
    "    b = (oa_flag[ii] * oa_test_flag[ii]).sum()\n",
    "    if b > a:\n",
    "        output.append([object_index_reversed[ii], a, b, a/b])"
   ]
  },
  {
   "cell_type": "code",
   "execution_count": 236,
   "id": "3314bee5",
   "metadata": {},
   "outputs": [],
   "source": [
    "sub_output = output[0:10]"
   ]
  },
  {
   "cell_type": "code",
   "execution_count": 244,
   "id": "62007945",
   "metadata": {},
   "outputs": [
    {
     "data": {
      "text/plain": [
       "[['animal', 89, 93, 0.956989247311828],\n",
       " ['apple', 46, 48, 0.9583333333333334],\n",
       " ['area', 65, 68, 0.9558823529411765],\n",
       " ['arm', 60, 61, 0.9836065573770492],\n",
       " ['bag', 93, 94, 0.9893617021276596],\n",
       " ['banana', 58, 62, 0.9354838709677419],\n",
       " ['beads', 12, 14, 0.8571428571428571],\n",
       " ['beak', 15, 16, 0.9375],\n",
       " ['bear', 131, 132, 0.9924242424242424],\n",
       " ['bed', 64, 69, 0.927536231884058],\n",
       " ['bedside lamp', 0, 1, 0.0],\n",
       " ['bench', 117, 120, 0.975],\n",
       " ['bird', 84, 89, 0.9438202247191011],\n",
       " ['blade', 21, 22, 0.9545454545454546],\n",
       " ['blanket', 66, 67, 0.9850746268656716],\n",
       " ['block', 27, 28, 0.9642857142857143],\n",
       " ['board', 77, 78, 0.9871794871794872],\n",
       " ['boat', 85, 88, 0.9659090909090909],\n",
       " ['border', 22, 24, 0.9166666666666666],\n",
       " ['bottle', 65, 67, 0.9701492537313433],\n",
       " ['bowl', 100, 103, 0.970873786407767],\n",
       " ['box', 74, 77, 0.961038961038961],\n",
       " ['boy', 156, 167, 0.9341317365269461],\n",
       " ['branch', 45, 46, 0.9782608695652174],\n",
       " ['bread', 63, 65, 0.9692307692307692],\n",
       " ['bricks', 41, 42, 0.9761904761904762],\n",
       " ['broccoli', 36, 42, 0.8571428571428571],\n",
       " ['bucket for tractor', 0, 2, 0.0],\n",
       " ['bull', 30, 32, 0.9375],\n",
       " ['bumper', 19, 20, 0.95],\n",
       " ['bush', 56, 61, 0.9180327868852459],\n",
       " ['cabinet', 52, 55, 0.9454545454545454],\n",
       " ['cable', 13, 16, 0.8125],\n",
       " ['cake', 71, 73, 0.9726027397260274],\n",
       " ['calf', 13, 14, 0.9285714285714286],\n",
       " ['can', 49, 51, 0.9607843137254902],\n",
       " ['cargo shorts', 1, 2, 0.5],\n",
       " ['carpet', 67, 70, 0.9571428571428572],\n",
       " ['carriage', 18, 20, 0.9],\n",
       " ['carrot', 46, 48, 0.9583333333333334],\n",
       " ['case', 30, 32, 0.9375],\n",
       " ['cat', 113, 115, 0.9826086956521739],\n",
       " ['cat tail', 1, 2, 0.5],\n",
       " ['ceiling', 57, 59, 0.9661016949152542],\n",
       " ['chair', 136, 137, 0.9927007299270073],\n",
       " ['cheese', 28, 30, 0.9333333333333333],\n",
       " ['chemtrails', 0, 1, 0.0],\n",
       " ['child', 109, 136, 0.8014705882352942],\n",
       " ['church', 19, 20, 0.95],\n",
       " ['cliff', 11, 12, 0.9166666666666666],\n",
       " ['clock', 90, 95, 0.9473684210526315],\n",
       " ['cloth', 55, 56, 0.9821428571428571],\n",
       " ['clouds', 56, 58, 0.9655172413793104],\n",
       " ['coat', 70, 72, 0.9722222222222222],\n",
       " ['coke', 0, 1, 0.0],\n",
       " ['collar', 42, 43, 0.9767441860465116],\n",
       " ['column', 32, 35, 0.9142857142857143],\n",
       " ['comforter', 38, 40, 0.95],\n",
       " ['computer', 22, 24, 0.9166666666666666],\n",
       " ['container', 75, 76, 0.9868421052631579],\n",
       " ['corn', 6, 7, 0.8571428571428571],\n",
       " ['counter', 56, 58, 0.9655172413793104],\n",
       " ['countertop', 29, 31, 0.9354838709677419],\n",
       " ['couple', 34, 36, 0.9444444444444444],\n",
       " ['court', 32, 33, 0.9696969696969697],\n",
       " ['cow', 102, 103, 0.9902912621359223],\n",
       " ['crullers', 0, 1, 0.0],\n",
       " ['crust', 28, 29, 0.9655172413793104],\n",
       " ['cup', 73, 79, 0.9240506329113924],\n",
       " ['curb', 23, 25, 0.92],\n",
       " ['curtain', 76, 77, 0.987012987012987],\n",
       " ['cushion', 33, 34, 0.9705882352941176],\n",
       " ['dark-haired', 0, 1, 0.0],\n",
       " ['desk', 52, 53, 0.9811320754716981],\n",
       " ['device', 10, 11, 0.9090909090909091],\n",
       " ['dirt', 38, 39, 0.9743589743589743],\n",
       " ['dishwasher', 13, 14, 0.9285714285714286],\n",
       " ['dog', 174, 178, 0.9775280898876404],\n",
       " ['doll', 31, 32, 0.96875],\n",
       " ['donut', 63, 65, 0.9692307692307692],\n",
       " ['door', 94, 96, 0.9791666666666666],\n",
       " ['doughnut', 38, 43, 0.8837209302325582],\n",
       " ['drain', 8, 10, 0.8],\n",
       " ['dress', 59, 63, 0.9365079365079365],\n",
       " ['ear', 60, 62, 0.967741935483871],\n",
       " ['elephant', 105, 110, 0.9545454545454546],\n",
       " ['engine', 27, 28, 0.9642857142857143],\n",
       " ['eye', 26, 27, 0.9629629629629629],\n",
       " ['face', 79, 80, 0.9875],\n",
       " ['female', 24, 26, 0.9230769230769231],\n",
       " ['field', 80, 81, 0.9876543209876543],\n",
       " ['filter', 0, 1, 0.0],\n",
       " ['fire hydrant', 41, 42, 0.9761904761904762],\n",
       " ['fish', 37, 38, 0.9736842105263158],\n",
       " ['floor', 115, 117, 0.9829059829059829],\n",
       " ['floor mat', 0, 1, 0.0],\n",
       " ['flowers', 71, 73, 0.9726027397260274],\n",
       " ['food', 82, 83, 0.9879518072289156],\n",
       " ['food truck', 0, 2, 0.0],\n",
       " ['foot', 32, 34, 0.9411764705882353],\n",
       " ['frame', 57, 60, 0.95],\n",
       " ['fridge', 39, 40, 0.975],\n",
       " ['front leg', 6, 7, 0.8571428571428571],\n",
       " ['frosting', 21, 22, 0.9545454545454546],\n",
       " ['fruit', 47, 48, 0.9791666666666666],\n",
       " ['giraffe', 90, 93, 0.967741935483871],\n",
       " ['girl', 152, 163, 0.9325153374233128],\n",
       " ['glass', 88, 90, 0.9777777777777777],\n",
       " ['grass', 92, 94, 0.9787234042553191],\n",
       " ['grating', 0, 1, 0.0],\n",
       " ['ground', 101, 103, 0.9805825242718447],\n",
       " ['guy', 110, 124, 0.8870967741935484],\n",
       " ['hair', 78, 79, 0.9873417721518988],\n",
       " ['hand', 55, 58, 0.9482758620689655],\n",
       " ['handle', 46, 48, 0.9583333333333334],\n",
       " ['hatchback', 0, 1, 0.0],\n",
       " ['hill', 48, 49, 0.9795918367346939],\n",
       " ['hook', 3, 4, 0.75],\n",
       " ['horn', 27, 28, 0.9642857142857143],\n",
       " ['horse', 104, 108, 0.9629629629629629],\n",
       " ['house', 65, 66, 0.9848484848484849],\n",
       " ['jacket', 95, 96, 0.9895833333333334],\n",
       " ['jar', 53, 55, 0.9636363636363636],\n",
       " ['jeans', 38, 42, 0.9047619047619048],\n",
       " ['jet', 30, 32, 0.9375],\n",
       " ['jug', 17, 18, 0.9444444444444444],\n",
       " ['kite', 73, 76, 0.9605263157894737],\n",
       " ['kitten', 30, 31, 0.967741935483871],\n",
       " ['lady', 86, 101, 0.8514851485148515],\n",
       " ['lamb', 29, 30, 0.9666666666666667],\n",
       " ['lamp', 66, 68, 0.9705882352941176],\n",
       " ['laptop', 37, 38, 0.9736842105263158],\n",
       " ['leaves', 73, 74, 0.9864864864864865],\n",
       " ['lemon', 16, 20, 0.8],\n",
       " ['lettering', 19, 21, 0.9047619047619048],\n",
       " ['light', 66, 67, 0.9850746268656716],\n",
       " ['luggage', 39, 40, 0.975],\n",
       " ['male', 49, 77, 0.6363636363636364],\n",
       " ['mat', 34, 36, 0.9444444444444444],\n",
       " ['material', 31, 32, 0.96875],\n",
       " ['meat', 36, 37, 0.972972972972973],\n",
       " ['men', 92, 109, 0.8440366972477065],\n",
       " ['mirror', 62, 63, 0.9841269841269841],\n",
       " ['moped', 16, 17, 0.9411764705882353],\n",
       " ['motorcycle', 100, 102, 0.9803921568627451],\n",
       " ['napkin', 56, 58, 0.9655172413793104],\n",
       " ['neck', 35, 36, 0.9722222222222222],\n",
       " ['net', 23, 26, 0.8846153846153846],\n",
       " ['numbers', 18, 19, 0.9473684210526315],\n",
       " ['object', 89, 93, 0.956989247311828],\n",
       " ['onion', 29, 30, 0.9666666666666667],\n",
       " ['orange', 38, 41, 0.926829268292683],\n",
       " ['outfit', 38, 40, 0.95],\n",
       " ['overpass', 7, 8, 0.875],\n",
       " ['package', 15, 16, 0.9375],\n",
       " ['pants', 104, 105, 0.9904761904761905],\n",
       " ['parasol', 0, 1, 0.0],\n",
       " ['path', 41, 44, 0.9318181818181818],\n",
       " ['pavement', 41, 44, 0.9318181818181818],\n",
       " ['paw', 23, 26, 0.8846153846153846],\n",
       " ['peel', 12, 14, 0.8571428571428571],\n",
       " ['people', 110, 130, 0.8461538461538461],\n",
       " ['person', 191, 193, 0.9896373056994818],\n",
       " ['petal', 19, 20, 0.95],\n",
       " ['phone', 36, 37, 0.972972972972973],\n",
       " ['picture', 40, 43, 0.9302325581395349],\n",
       " ['pillar', 34, 37, 0.918918918918919],\n",
       " ['pillow', 86, 87, 0.9885057471264368],\n",
       " ['pizza', 61, 66, 0.9242424242424242],\n",
       " ['plane', 129, 132, 0.9772727272727273],\n",
       " ['plant', 56, 57, 0.9824561403508771],\n",
       " ['planter', 34, 37, 0.918918918918919],\n",
       " ['plate', 140, 143, 0.9790209790209791],\n",
       " ['platform', 46, 51, 0.9019607843137255],\n",
       " ['player', 63, 73, 0.863013698630137],\n",
       " ['plug', 3, 4, 0.75],\n",
       " ['pole', 85, 87, 0.9770114942528736],\n",
       " ['pot', 54, 55, 0.9818181818181818],\n",
       " ['potato', 28, 29, 0.9655172413793104],\n",
       " ['print', 19, 20, 0.95],\n",
       " ['rack', 22, 23, 0.9565217391304348],\n",
       " ['rider', 16, 19, 0.8421052631578947],\n",
       " ['right leg', 2, 3, 0.6666666666666666],\n",
       " ['road', 73, 75, 0.9733333333333334],\n",
       " ['roadway', 16, 17, 0.9411764705882353],\n",
       " ['rock', 75, 77, 0.974025974025974],\n",
       " ['rolling bag', 0, 1, 0.0],\n",
       " ['roof', 103, 104, 0.9903846153846154],\n",
       " ['rope', 34, 35, 0.9714285714285714],\n",
       " ['salmon', 0, 1, 0.0],\n",
       " ['sandwich', 36, 39, 0.9230769230769231],\n",
       " ['sauce', 25, 26, 0.9615384615384616],\n",
       " ['scarf', 38, 39, 0.9743589743589743],\n",
       " ['scissors', 30, 32, 0.9375],\n",
       " ['screen', 48, 50, 0.96],\n",
       " ['sea', 14, 16, 0.875],\n",
       " ['seat', 79, 82, 0.9634146341463414],\n",
       " ['sectional', 0, 1, 0.0],\n",
       " ['shadow', 32, 34, 0.9411764705882353],\n",
       " ['sheep', 70, 75, 0.9333333333333333],\n",
       " ['shelf', 50, 51, 0.9803921568627451],\n",
       " ['shirt', 128, 129, 0.9922480620155039],\n",
       " ['shore', 18, 19, 0.9473684210526315],\n",
       " ['shorts', 82, 85, 0.9647058823529412],\n",
       " ['sign', 119, 123, 0.967479674796748],\n",
       " ['sink', 61, 66, 0.9242424242424242],\n",
       " ['skateboard', 60, 63, 0.9523809523809523],\n",
       " ['skateboarder', 15, 18, 0.8333333333333334],\n",
       " ['ski', 33, 34, 0.9705882352941176],\n",
       " ['ski poles', 9, 10, 0.9],\n",
       " ['skier', 44, 45, 0.9777777777777777],\n",
       " ['skin', 20, 21, 0.9523809523809523],\n",
       " ['slab', 14, 15, 0.9333333333333333],\n",
       " ['slice', 24, 31, 0.7741935483870968],\n",
       " ['snow', 44, 45, 0.9777777777777777],\n",
       " ['snowboarder', 25, 26, 0.9615384615384616],\n",
       " ['spot', 28, 29, 0.9655172413793104],\n",
       " ['stage', 11, 12, 0.9166666666666666],\n",
       " ['stand', 35, 38, 0.9210526315789473],\n",
       " ['station wagon', 0, 1, 0.0],\n",
       " ['stove', 28, 30, 0.9333333333333333],\n",
       " ['street lighting', 0, 1, 0.0],\n",
       " ['suit', 37, 38, 0.9736842105263158],\n",
       " ['suitcase', 65, 66, 0.9848484848484849],\n",
       " ['sunlight', 3, 4, 0.75],\n",
       " ['surface', 56, 58, 0.9655172413793104],\n",
       " ['surfboard', 92, 93, 0.989247311827957],\n",
       " ['surfer', 52, 75, 0.6933333333333334],\n",
       " ['sweater', 61, 70, 0.8714285714285714],\n",
       " ['table', 119, 120, 0.9916666666666667],\n",
       " ['tablecloth', 41, 42, 0.9761904761904762],\n",
       " ['tag', 18, 19, 0.9473684210526315],\n",
       " ['tail', 70, 71, 0.9859154929577465],\n",
       " ['tape', 15, 16, 0.9375],\n",
       " ['taxi', 13, 14, 0.9285714285714286],\n",
       " ['teddy bear', 61, 63, 0.9682539682539683],\n",
       " ['tennis player', 29, 34, 0.8529411764705882],\n",
       " ['tennis racket', 14, 16, 0.875],\n",
       " ['tent', 28, 29, 0.9655172413793104],\n",
       " ['tile', 77, 79, 0.9746835443037974],\n",
       " ['tire', 39, 40, 0.975],\n",
       " ['toilet', 54, 57, 0.9473684210526315],\n",
       " ['tomato', 24, 28, 0.8571428571428571],\n",
       " ['toothbrush', 15, 16, 0.9375],\n",
       " ['towel', 56, 59, 0.9491525423728814],\n",
       " ['tower', 61, 62, 0.9838709677419355],\n",
       " ['toy', 38, 39, 0.9743589743589743],\n",
       " ['traffic light', 26, 27, 0.9629629629629629],\n",
       " ['traffic sign', 11, 12, 0.9166666666666666],\n",
       " ['train', 124, 125, 0.992],\n",
       " ['train engine', 19, 20, 0.95],\n",
       " ['train platform', 0, 1, 0.0],\n",
       " ['tray', 64, 68, 0.9411764705882353],\n",
       " ['trousers', 10, 11, 0.9090909090909091],\n",
       " ['truck', 171, 174, 0.9827586206896551],\n",
       " ['umbrella', 115, 116, 0.9913793103448276],\n",
       " ['umpire', 23, 24, 0.9583333333333334],\n",
       " ['van', 38, 39, 0.9743589743589743],\n",
       " ['vase', 91, 94, 0.9680851063829787],\n",
       " ['vegetables', 36, 39, 0.9230769230769231],\n",
       " ['vegetation', 14, 15, 0.9333333333333333],\n",
       " ['vehicle', 48, 49, 0.9795918367346939],\n",
       " ['wall', 176, 182, 0.967032967032967],\n",
       " ['water bottle', 11, 12, 0.9166666666666666],\n",
       " ['wave', 42, 44, 0.9545454545454546],\n",
       " ['weeds', 17, 18, 0.9444444444444444],\n",
       " ['window', 180, 182, 0.989010989010989],\n",
       " ['windshield', 22, 23, 0.9565217391304348],\n",
       " ['wine glass', 13, 14, 0.9285714285714286],\n",
       " ['winter jacket', 0, 1, 0.0],\n",
       " ['wire', 39, 41, 0.9512195121951219],\n",
       " ['woman', 200, 207, 0.966183574879227],\n",
       " ['wood', 55, 57, 0.9649122807017544],\n",
       " ['yacht', 1, 2, 0.5],\n",
       " ['zebra', 66, 69, 0.9565217391304348]]"
      ]
     },
     "execution_count": 244,
     "metadata": {},
     "output_type": "execute_result"
    }
   ],
   "source": [
    "output"
   ]
  },
  {
   "cell_type": "code",
   "execution_count": 243,
   "id": "74f2fdba",
   "metadata": {},
   "outputs": [
    {
     "name": "stderr",
     "output_type": "stream",
     "text": [
      "findfont: Font family 'Times New Roman' not found.\n",
      "findfont: Font family 'Times New Roman' not found.\n",
      "findfont: Font family 'Times New Roman' not found.\n",
      "findfont: Font family 'Times New Roman' not found.\n",
      "findfont: Font family 'Times New Roman' not found.\n",
      "findfont: Font family 'Times New Roman' not found.\n",
      "findfont: Font family 'Times New Roman' not found.\n",
      "findfont: Font family 'Times New Roman' not found.\n",
      "findfont: Font family 'Times New Roman' not found.\n",
      "findfont: Font family 'Times New Roman' not found.\n",
      "findfont: Font family 'Times New Roman' not found.\n",
      "findfont: Font family 'Times New Roman' not found.\n",
      "findfont: Font family 'Times New Roman' not found.\n",
      "findfont: Font family 'Times New Roman' not found.\n",
      "findfont: Font family 'Times New Roman' not found.\n",
      "findfont: Font family 'Times New Roman' not found.\n",
      "findfont: Font family 'Times New Roman' not found.\n",
      "findfont: Font family 'Times New Roman' not found.\n",
      "findfont: Font family 'Times New Roman' not found.\n",
      "findfont: Font family 'Times New Roman' not found.\n",
      "findfont: Font family 'Times New Roman' not found.\n",
      "findfont: Font family 'Times New Roman' not found.\n",
      "findfont: Font family 'Times New Roman' not found.\n",
      "findfont: Font family 'Times New Roman' not found.\n",
      "findfont: Font family 'Times New Roman' not found.\n",
      "findfont: Font family 'Times New Roman' not found.\n",
      "findfont: Font family 'Times New Roman' not found.\n",
      "findfont: Font family 'Times New Roman' not found.\n",
      "findfont: Font family 'Times New Roman' not found.\n",
      "findfont: Font family 'Times New Roman' not found.\n",
      "findfont: Font family 'Times New Roman' not found.\n",
      "findfont: Font family 'Times New Roman' not found.\n",
      "findfont: Font family 'Times New Roman' not found.\n",
      "findfont: Font family 'Times New Roman' not found.\n",
      "findfont: Font family 'Times New Roman' not found.\n",
      "findfont: Font family 'Times New Roman' not found.\n",
      "findfont: Font family 'Times New Roman' not found.\n",
      "findfont: Font family 'Times New Roman' not found.\n",
      "findfont: Font family 'Times New Roman' not found.\n",
      "findfont: Font family 'Times New Roman' not found.\n",
      "findfont: Font family 'Times New Roman' not found.\n",
      "findfont: Font family 'Times New Roman' not found.\n",
      "findfont: Font family 'Times New Roman' not found.\n",
      "findfont: Font family 'Times New Roman' not found.\n",
      "findfont: Font family 'Times New Roman' not found.\n",
      "findfont: Font family 'Times New Roman' not found.\n",
      "findfont: Font family 'Times New Roman' not found.\n",
      "findfont: Font family 'Times New Roman' not found.\n",
      "findfont: Font family 'Times New Roman' not found.\n",
      "findfont: Font family 'Times New Roman' not found.\n",
      "findfont: Font family 'Times New Roman' not found.\n",
      "findfont: Font family 'Times New Roman' not found.\n",
      "findfont: Font family 'Times New Roman' not found.\n",
      "findfont: Font family 'Times New Roman' not found.\n",
      "findfont: Font family 'Times New Roman' not found.\n",
      "findfont: Font family 'Times New Roman' not found.\n",
      "findfont: Font family 'Times New Roman' not found.\n",
      "findfont: Font family 'Times New Roman' not found.\n",
      "findfont: Font family 'Times New Roman' not found.\n",
      "findfont: Font family 'Times New Roman' not found.\n",
      "findfont: Font family 'Times New Roman' not found.\n",
      "findfont: Font family 'Times New Roman' not found.\n",
      "findfont: Font family 'Times New Roman' not found.\n",
      "findfont: Font family 'Times New Roman' not found.\n",
      "findfont: Font family 'Times New Roman' not found.\n",
      "findfont: Font family 'Times New Roman' not found.\n",
      "findfont: Font family 'Times New Roman' not found.\n",
      "findfont: Font family 'Times New Roman' not found.\n",
      "findfont: Font family 'Times New Roman' not found.\n",
      "findfont: Font family 'Times New Roman' not found.\n",
      "findfont: Font family 'Times New Roman' not found.\n",
      "findfont: Font family 'Times New Roman' not found.\n",
      "findfont: Font family 'Times New Roman' not found.\n",
      "findfont: Font family 'Times New Roman' not found.\n",
      "findfont: Font family 'Times New Roman' not found.\n",
      "findfont: Font family 'Times New Roman' not found.\n",
      "findfont: Font family 'Times New Roman' not found.\n",
      "findfont: Font family 'Times New Roman' not found.\n",
      "findfont: Font family 'Times New Roman' not found.\n",
      "findfont: Font family 'Times New Roman' not found.\n"
     ]
    },
    {
     "name": "stdout",
     "output_type": "stream",
     "text": [
      "a\n"
     ]
    },
    {
     "name": "stderr",
     "output_type": "stream",
     "text": [
      "findfont: Font family 'Times New Roman' not found.\n",
      "findfont: Font family 'Times New Roman' not found.\n",
      "findfont: Font family 'Times New Roman' not found.\n",
      "findfont: Font family 'Times New Roman' not found.\n",
      "findfont: Font family 'Times New Roman' not found.\n",
      "findfont: Font family 'Times New Roman' not found.\n",
      "findfont: Font family 'Times New Roman' not found.\n",
      "findfont: Font family 'Times New Roman' not found.\n",
      "findfont: Font family 'Times New Roman' not found.\n",
      "findfont: Font family 'Times New Roman' not found.\n",
      "findfont: Font family 'Times New Roman' not found.\n",
      "findfont: Font family 'Times New Roman' not found.\n",
      "findfont: Font family 'Times New Roman' not found.\n",
      "findfont: Font family 'Times New Roman' not found.\n",
      "findfont: Font family 'Times New Roman' not found.\n",
      "findfont: Font family 'Times New Roman' not found.\n",
      "findfont: Font family 'Times New Roman' not found.\n",
      "findfont: Font family 'Times New Roman' not found.\n",
      "findfont: Font family 'Times New Roman' not found.\n",
      "findfont: Font family 'Times New Roman' not found.\n",
      "findfont: Font family 'Times New Roman' not found.\n",
      "findfont: Font family 'Times New Roman' not found.\n",
      "findfont: Font family 'Times New Roman' not found.\n",
      "findfont: Font family 'Times New Roman' not found.\n",
      "findfont: Font family 'Times New Roman' not found.\n",
      "findfont: Font family 'Times New Roman' not found.\n",
      "findfont: Font family 'Times New Roman' not found.\n",
      "findfont: Font family 'Times New Roman' not found.\n",
      "findfont: Font family 'Times New Roman' not found.\n",
      "findfont: Font family 'Times New Roman' not found.\n",
      "findfont: Font family 'Times New Roman' not found.\n",
      "findfont: Font family 'Times New Roman' not found.\n",
      "findfont: Font family 'Times New Roman' not found.\n",
      "findfont: Font family 'Times New Roman' not found.\n",
      "findfont: Font family 'Times New Roman' not found.\n",
      "findfont: Font family 'Times New Roman' not found.\n",
      "findfont: Font family 'Times New Roman' not found.\n",
      "findfont: Font family 'Times New Roman' not found.\n",
      "findfont: Font family 'Times New Roman' not found.\n",
      "findfont: Font family 'Times New Roman' not found.\n"
     ]
    },
    {
     "data": {
      "image/png": "[encoded data removed]",
      "text/plain": [
       "<Figure size 1500x800 with 1 Axes>"
      ]
     },
     "metadata": {},
     "output_type": "display_data"
    }
   ],
   "source": [
    "import numpy as np\n",
    "import matplotlib.pyplot as plt\n",
    "\n",
    "%matplotlib inline\n",
    "\n",
    "plt.style.use(\"ggplot\")\n",
    "plt.rc('font', family='Times New Roman')\n",
    "\n",
    "shops = [x[0] for x in sub_output]\n",
    "sales_product_1 = [1 for x in sub_output]\n",
    "sales_product_2 = [x[3] for x in sub_output]\n",
    "\n",
    "# 创建分组柱状图，需要自己控制x轴坐标\n",
    "xticks = np.arange(len(shops))\n",
    "\n",
    "fig, ax = plt.subplots(figsize=(15, 8))\n",
    "# 所有门店第一种产品的销量，注意控制柱子的宽度，这里选择0.25\n",
    "ax.bar(xticks, sales_product_1, width=0.25, label=\"pos\", color=\"red\")\n",
    "# 所有门店第二种产品的销量，通过微调x轴坐标来调整新增柱子的位置\n",
    "ax.bar(xticks, sales_product_2, width=0.25, label=\"neg\", color=\"blue\")\n",
    "\n",
    "# ax.set_title('a', fontsize=15)\n",
    "ax.set_xlabel(\"attributes\")\n",
    "ax.set_ylabel(\"# images\")\n",
    "ax.legend()\n",
    "\n",
    "# 最后调整x轴标签的位置\n",
    "ax.set_xticks(xticks)\n",
    "ax.set_xticklabels(shops, rotation=45)\n",
    "print('a')"
   ]
  }
 ],
 "metadata": {
  "kernelspec": {
   "display_name": "kgva",
   "language": "python",
   "name": "kgva"
  },
  "language_info": {
   "codemirror_mode": {
    "name": "ipython",
    "version": 3
   },
   "file_extension": ".py",
   "mimetype": "text/x-python",
   "name": "python",
   "nbconvert_exporter": "python",
   "pygments_lexer": "ipython3",
   "version": "3.8.15"
  },
  "toc": {
   "base_numbering": 1,
   "nav_menu": {},
   "number_sections": true,
   "sideBar": true,
   "skip_h1_title": false,
   "title_cell": "Table of Contents",
   "title_sidebar": "Contents",
   "toc_cell": false,
   "toc_position": {
    "height": "762px",
    "left": "241px",
    "top": "115px",
    "width": "444.722px"
   },
   "toc_section_display": true,
   "toc_window_display": true
  }
 },
 "nbformat": 4,
 "nbformat_minor": 5
}
