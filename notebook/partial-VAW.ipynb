{
 "cells": [
  {
   "cell_type": "markdown",
   "id": "cd71ab66",
   "metadata": {},
   "source": [
    "## 统计VAW"
   ]
  },
  {
   "cell_type": "code",
   "execution_count": 466,
   "id": "cdd0d24c",
   "metadata": {},
   "outputs": [],
   "source": [
    "import json\n",
    "import os.path as osp\n",
    "import numpy as np\n",
    "\n",
    "data_path = '/data/liangkongming/data/vaw_dataset/data'\n",
    "\n",
    "with open(osp.join(data_path, 'object_index.json')) as f:\n",
    "    object_index = json.load(f)\n",
    "    \n",
    "with open(osp.join(data_path, 'attribute_index.json')) as f:\n",
    "    attribute_index = json.load(f)\n",
    "    \n",
    "anno = {}\n",
    "for stage in ['train', 'val', 'test']:\n",
    "    with open(osp.join(data_path, '{}.json'.format(stage))) as f:\n",
    "        anno[stage] = json.load(f)"
   ]
  },
  {
   "cell_type": "code",
   "execution_count": 234,
   "id": "a5e80d7f",
   "metadata": {},
   "outputs": [
    {
     "name": "stdout",
     "output_type": "stream",
     "text": [
      "2260 620\n"
     ]
    }
   ],
   "source": [
    "num_obj = len(object_index)\n",
    "num_att = len(attribute_index)\n",
    "print(num_obj, num_att)"
   ]
  },
  {
   "cell_type": "markdown",
   "id": "64c17da6",
   "metadata": {},
   "source": [
    "### 每种物体类别的属性分布在train/val/test上的差异"
   ]
  },
  {
   "cell_type": "code",
   "execution_count": 260,
   "id": "d766c3e1",
   "metadata": {},
   "outputs": [],
   "source": [
    "def calculate_num(anno_list, num_obj, num_att):\n",
    "    obj_att_anno_pos = np.zeros((num_obj, num_att))\n",
    "    obj_att_anno_neg = np.zeros((num_obj, num_att))\n",
    "    obj_counter = np.zeros((num_obj))\n",
    "\n",
    "    for anno_image in anno_list:\n",
    "        object_name = anno_image['object_name']\n",
    "        positive_attributes = anno_image['positive_attributes']\n",
    "        negative_attributes = anno_image['negative_attributes']\n",
    "        object_index_image = object_index[object_name]\n",
    "        obj_counter[object_index_image] += 1\n",
    "        for att in positive_attributes:\n",
    "            attribute_index_image = attribute_index[att]\n",
    "            obj_att_anno_pos[object_index_image, attribute_index_image] += 1\n",
    "        for att in negative_attributes:\n",
    "            attribute_index_image = attribute_index[att]\n",
    "            obj_att_anno_neg[object_index_image, attribute_index_image] +=1\n",
    "    return obj_att_anno_pos, obj_att_anno_neg, obj_counter\n",
    "\n",
    "oa_anno_pos_train, oa_anno_neg_train, obj_counter_train = calculate_num(\n",
    "    anno['train'], num_obj, num_att\n",
    ")"
   ]
  },
  {
   "cell_type": "code",
   "execution_count": 252,
   "id": "7ac811db",
   "metadata": {},
   "outputs": [
    {
     "name": "stdout",
     "output_type": "stream",
     "text": [
      "1296 8876\n",
      "0.14601171698963497\n"
     ]
    }
   ],
   "source": [
    "oa_anno_pos_val, oa_anno_neg_val, obj_counter_val = calculate_num(\n",
    "    anno['val'], num_obj, num_att\n",
    ")\n",
    "print(((oa_anno_pos_train == 0) * (oa_anno_pos_val != 0)).sum() , (oa_anno_pos_val != 0).sum())\n",
    "print(((oa_anno_pos_train == 0) * (oa_anno_pos_val != 0)).sum() / (oa_anno_pos_val != 0).sum())"
   ]
  },
  {
   "cell_type": "code",
   "execution_count": 253,
   "id": "4d5e7465",
   "metadata": {},
   "outputs": [
    {
     "name": "stdout",
     "output_type": "stream",
     "text": [
      "3881 16527\n",
      "0.2348278574453924\n"
     ]
    }
   ],
   "source": [
    "oa_anno_pos_test, oa_anno_neg_test, obj_counter_test = calculate_num(\n",
    "    anno['test'], num_obj, num_att\n",
    ")\n",
    "print(((oa_anno_pos_train == 0) * (oa_anno_pos_test != 0)).sum() , (oa_anno_pos_test != 0).sum())\n",
    "print(((oa_anno_pos_train == 0) * (oa_anno_pos_test != 0)).sum() / (oa_anno_pos_test != 0).sum())"
   ]
  },
  {
   "cell_type": "code",
   "execution_count": 45,
   "id": "453fa312",
   "metadata": {},
   "outputs": [],
   "source": [
    "object_index_reversed = {v:k for k, v in object_index.items()}\n",
    "attribute_index_reversed = {v:k for k, v in attribute_index.items()}"
   ]
  },
  {
   "cell_type": "markdown",
   "id": "7b62b41b",
   "metadata": {},
   "source": [
    "### 获取物体类别的可描述属性"
   ]
  },
  {
   "cell_type": "code",
   "execution_count": 451,
   "id": "c171f589",
   "metadata": {},
   "outputs": [],
   "source": [
    "oa_anno_pos = oa_anno_pos_train + oa_anno_pos_val + oa_anno_pos_test\n",
    "oa_anno_neg = oa_anno_neg_train + oa_anno_neg_val + oa_anno_neg_test\n",
    "valid_att_per_obj = {}\n",
    "for ii in range(num_obj):\n",
    "    valid_att_list = []\n",
    "    valid_att = np.where((oa_anno_pos[ii]+oa_anno_neg[ii]) > 0)[0]\n",
    "    for jj in valid_att:\n",
    "        valid_att_list.append(attribute_index_reversed[jj])\n",
    "    valid_att_per_obj[object_index_reversed[ii]] = valid_att_list"
   ]
  },
  {
   "cell_type": "code",
   "execution_count": 470,
   "id": "3e666537",
   "metadata": {},
   "outputs": [],
   "source": [
    "def check_invalid_att(anno_image, valid_att_per_obj):\n",
    "    object_name = anno_image['object_name']\n",
    "    positive_attributes = anno_image['positive_attributes']\n",
    "    negative_attributes = anno_image['negative_attributes']\n",
    "    valid_att = valid_att_per_obj[object_name]\n",
    "#     print(len(positive_attributes+negative_attributes), len(valid_att))\n",
    "    for att in positive_attributes + negative_attributes:\n",
    "        assert(att in valid_att)\n",
    "        \n",
    "for anno_image in anno['train']+anno['val']+anno['test']:\n",
    "# for anno_image in anno['train'][0:100]:\n",
    "    check_invalid_att(anno_image, valid_att_per_obj)\n",
    "#     break"
   ]
  },
  {
   "cell_type": "code",
   "execution_count": 495,
   "id": "537d5a4b",
   "metadata": {},
   "outputs": [
    {
     "data": {
      "text/plain": [
       "(45342.0, 1401200, 0.03235940622323723)"
      ]
     },
     "execution_count": 495,
     "metadata": {},
     "output_type": "execute_result"
    }
   ],
   "source": [
    "oa_flag.sum(), num_obj*num_att, oa_flag.sum()/(num_obj*num_att)"
   ]
  },
  {
   "cell_type": "code",
   "execution_count": null,
   "id": "c8c13d40",
   "metadata": {},
   "outputs": [],
   "source": [
    "# 已经验证对于测试数据引入aux信息后，无性能影响\n",
    "oa_flag = np.zeros((num_obj, num_att))\n",
    "for ii in range(num_obj):\n",
    "    object_name = object_index_reversed[ii]\n",
    "    valid_att = valid_att_per_obj[object_name]\n",
    "    for jj in range(num_att):\n",
    "        attribute_name = attribute_index_reversed[jj]\n",
    "        if attribute_name in valid_att:\n",
    "            oa_flag[ii, jj] = 1\n",
    "            \n",
    "result_path = '/data/liangkongming/code/KGVA/exp/preds-negative_224_rn50_obj.npy'\n",
    "preds = np.load(result_path)\n",
    "for ii, anno_image in enumerate(anno['test']):\n",
    "    object_name = anno_image['object_name']\n",
    "    preds[ii] *= oa_flag[object_index[object_name]]\n",
    "np.save('/data/liangkongming/code/KGVA/exp/preds-negative_224_rn50_obj_aux.npy', preds)"
   ]
  },
  {
   "cell_type": "code",
   "execution_count": 527,
   "id": "a115dae6",
   "metadata": {},
   "outputs": [],
   "source": [
    "input_path = '/data/liangkongming/data/vaw_dataset/data'\n",
    "\n",
    "with open(osp.join(input_path, 'train.json')) as f:\n",
    "    anno_train = json.load(f)"
   ]
  },
  {
   "cell_type": "code",
   "execution_count": 528,
   "id": "42c7764d",
   "metadata": {},
   "outputs": [
    {
     "name": "stdout",
     "output_type": "stream",
     "text": [
      "216790\n",
      "216790\n"
     ]
    }
   ],
   "source": [
    "print(len(anno_train))\n",
    "\n",
    "anno_output = []\n",
    "for anno_image in anno_train:\n",
    "    object_name = anno_image['object_name']\n",
    "    positive_attributes = anno_image['positive_attributes']\n",
    "    negative_attributes = anno_image['negative_attributes']\n",
    "    anno_image['candidate_attributes'] = []\n",
    "    valid_att = valid_att_per_obj[object_name]\n",
    "    for att in valid_att:\n",
    "        if att not in positive_attributes and att not in negative_attributes:\n",
    "            anno_image['candidate_attributes'].append(att)\n",
    "    anno_output.append(anno_image)\n",
    "\n",
    "print(len(anno_output))"
   ]
  },
  {
   "cell_type": "code",
   "execution_count": 529,
   "id": "e5285988",
   "metadata": {},
   "outputs": [],
   "source": [
    "output_path = '/data/liangkongming/data/vaw_dataset/data-20230201'\n",
    "with open(osp.join(output_path, 'train.json'), 'w') as f:\n",
    "    json.dump(anno_output, f)"
   ]
  },
  {
   "cell_type": "code",
   "execution_count": 530,
   "id": "afa64818",
   "metadata": {},
   "outputs": [],
   "source": [
    "with open(osp.join(output_path, 'train.json')) as f:\n",
    "    anno_train = json.load(f)"
   ]
  },
  {
   "cell_type": "code",
   "execution_count": 914,
   "id": "3701fd17",
   "metadata": {},
   "outputs": [
    {
     "name": "stdout",
     "output_type": "stream",
     "text": [
      "keys\n",
      "positive_attributes ['white', 'silver', 'square']\n",
      "negative_attributes ['plastic', 'dark']\n",
      "candidate_attributes ['black', 'gray', 'small', 'metal', 'wavy']\n"
     ]
    }
   ],
   "source": [
    "data_idx = 1000\n",
    "print(anno_train[data_idx]['object_name'])\n",
    "for k in ['positive_attributes', 'negative_attributes', 'candidate_attributes']:\n",
    "    print(k, anno_train[data_idx][k])"
   ]
  },
  {
   "cell_type": "markdown",
   "id": "90c34485",
   "metadata": {},
   "source": [
    "### OA组合在train、val、test上的差异\n",
    "* internal knowledge\n",
    "* external knowledge"
   ]
  },
  {
   "cell_type": "markdown",
   "id": "b03b5701",
   "metadata": {},
   "source": [
    "#### co-occurence"
   ]
  },
  {
   "cell_type": "code",
   "execution_count": 876,
   "id": "5789a460",
   "metadata": {},
   "outputs": [],
   "source": [
    "EPS = np.finfo(float).eps\n",
    "\n",
    "def normalize_array(input_array):\n",
    "    ''' normalize along x axis '''\n",
    "    output_array = input_array / (np.sqrt((input_array **2).sum(axis = 1))[:, np.newaxis] + EPS)\n",
    "    return output_array"
   ]
  },
  {
   "cell_type": "code",
   "execution_count": 877,
   "id": "fc183cd3",
   "metadata": {},
   "outputs": [],
   "source": [
    "oa_train = oa_anno_pos_train + oa_anno_neg_train\n",
    "oa_train_norm = normalize_array(oa_train)\n",
    "# oa_train_norm1 = oa_train_num / (np.sqrt((oa_train_num **2).sum(axis = 1))[:, np.newaxis] + EPS)\n",
    "obj_corr_internal = oa_train_norm.astype(float) @ oa_train_norm.astype(float).T"
   ]
  },
  {
   "cell_type": "markdown",
   "id": "5c4128fa",
   "metadata": {},
   "source": [
    "#### embedding"
   ]
  },
  {
   "cell_type": "code",
   "execution_count": 878,
   "id": "b52d3cab",
   "metadata": {},
   "outputs": [],
   "source": [
    "import torch\n",
    "\n",
    "embed_path = '/data/liangkongming/code/KGVA/data/wxr/embeddings/clip_obj_embs_d512.pth'\n",
    "# embed_path = '/data/liangkongming/code/KGVA/data/wxr/embeddings/bert_obj_embs_d768.pth'\n",
    "# embed_path = '/data/liangkongming/code/KGVA/data/wxr/embeddings/glove_obj_embs_d100.pth'\n",
    "obj_emb = torch.load(embed_path).numpy()\n",
    "obj_emb = normalize_array(obj_emb)\n",
    "obj_corr_external = obj_emb.astype(float) @ obj_emb.astype(float).T"
   ]
  },
  {
   "cell_type": "markdown",
   "id": "cd7bee49",
   "metadata": {},
   "source": [
    "#### merge knowledge"
   ]
  },
  {
   "cell_type": "code",
   "execution_count": 936,
   "id": "4217464e",
   "metadata": {},
   "outputs": [],
   "source": [
    "oa_trainval_flag = (oa_anno_pos_train + oa_anno_neg_train + oa_anno_pos_val + oa_anno_neg_val) > 0\n",
    "oa_test_flag = (oa_anno_pos_test + oa_anno_neg_test) > 0"
   ]
  },
  {
   "cell_type": "code",
   "execution_count": 992,
   "id": "2ff32847",
   "metadata": {},
   "outputs": [
    {
     "name": "stdout",
     "output_type": "stream",
     "text": [
      "252 0.7736394135188867 44698 45342\n"
     ]
    }
   ],
   "source": [
    "def get_att_IoU(list1, list2):\n",
    "    inter_att = (list1 & list2).sum()\n",
    "    union_att = (list1 | list2).sum()\n",
    "    return inter_att, union_att\n",
    "\n",
    "# obj_correlation.shape\n",
    "obj_correlation1_norm = normalize_array(obj_corr_internal)\n",
    "obj_correlation2_norm = normalize_array(obj_corr_external)\n",
    "obj_correlation = np.maximum(obj_correlation1_norm, obj_correlation2_norm)\n",
    "oa_flag = np.zeros_like(oa_trainval_flag).astype(np.uint8)\n",
    "output = []\n",
    "# for ii in range(5, num_obj):\n",
    "for ii in range(num_obj):\n",
    "    inter_att, union_att = get_att_IoU(oa_trainval_flag[ii], oa_test_flag[ii])\n",
    "    TOP_K = 4\n",
    "    sorted_index = np.argsort(obj_correlation1[ii])\n",
    "    top_k_list = sorted_index[-TOP_K:][::-1]\n",
    "#     oa_flag[ii] = oa_train_flag[ii]\n",
    "    for o in top_k_list:\n",
    "        if o == ii:\n",
    "            continue\n",
    "        oa_flag[ii] += oa_trainval_flag[o]\n",
    "        \n",
    "    sorted_index = np.argsort(obj_correlation2[ii])\n",
    "    top_k_list = sorted_index[-TOP_K:][::-1]\n",
    "    for o in top_k_list:\n",
    "        if o == ii:\n",
    "            continue\n",
    "        oa_flag[ii] += oa_trainval_flag[o]\n",
    "        \n",
    "    oa_flag[ii] = (oa_flag[ii] >= 3) + oa_trainval_flag[ii]\n",
    "#     print(np.where(oa_flag[ii]>2))\n",
    "#     best_match = top_k_list[1] if top_k_list[0] == ii else top_k_list[0]\n",
    "#     oa_flag[ii] = oa_train_flag[ii] + oa_train_flag[best_match]\n",
    "    inter_att_aug, union_att_aug = get_att_IoU(oa_flag[ii], oa_test_flag[ii])\n",
    "#     print(inter_att, union_att, inter_att_aug, union_att_aug)\n",
    "#     ((+oa_train_flag[best_match]) & oa_valtest_flag[ii]).sum()\n",
    "#     union_att_aug = ((oa_train_flag[ii]+oa_train_flag[best_match]) | oa_valtest_flag[ii]).sum()\n",
    "#     return inter_att_aug, union_att_aug\n",
    "\n",
    "#     inter_att_aug, union_att_aug = get_att_IoU(ii, obj_correlation[ii])\n",
    "#     inter_att_aug1, union_att_aug1 = get_att_IoU(ii, obj_correlation1[ii])\n",
    "#     inter_att_aug2, union_att_aug2 = get_att_IoU(ii, obj_correlation2[ii])\n",
    "    if inter_att_aug > inter_att:\n",
    "        output.append([object_index_reversed[ii], inter_att, inter_att_aug])\n",
    "#     break\n",
    "\n",
    "# print('{0}, {1}, {2}'.format(len(output), num_obj, len(output)/num_obj))\n",
    "print(len(output), (oa_flag * oa_test_flag).sum()/oa_test_flag.sum(), oa_flag.sum(), (oa_trainval_flag+oa_test_flag).sum())"
   ]
  },
  {
   "cell_type": "code",
   "execution_count": 994,
   "id": "7f6b4d3c",
   "metadata": {},
   "outputs": [
    {
     "data": {
      "text/plain": [
       "0.11150442477876106"
      ]
     },
     "execution_count": 994,
     "metadata": {},
     "output_type": "execute_result"
    }
   ],
   "source": [
    "252/num_obj"
   ]
  },
  {
   "cell_type": "code",
   "execution_count": 974,
   "id": "f6389d0b",
   "metadata": {},
   "outputs": [
    {
     "data": {
      "text/plain": [
       "(25883, 61487)"
      ]
     },
     "execution_count": 974,
     "metadata": {},
     "output_type": "execute_result"
    }
   ],
   "source": [
    "Trainval:\n",
    "0.7609033300198808, 37645\n",
    "\n",
    "Combine:\n",
    "TOP1, C=1: 466 0.8040196322067594 61487 45342\n",
    "TOP2, C=1: 653 0.8309517892644135 84527 45342\n",
    "TOP2, C=2: 218 0.7756585487077535 42899 45342\n",
    "TOP2, C=2: 389 0.7921222664015904 50905 45342\n",
    "            97 0.7647241550695825 39993 45342\n",
    "\n",
    "        55 0.7627671471172962 38634 45342"
   ]
  },
  {
   "cell_type": "code",
   "execution_count": null,
   "id": "3cf02671",
   "metadata": {},
   "outputs": [],
   "source": [
    "oa_flag = np.zeros_like(oa_trainval_flag).astype(np.uint8)\n",
    "output = []\n",
    "# for ii in range(5, num_obj):\n",
    "for ii in range(num_obj):\n",
    "    inter_att, union_att = get_att_IoU(oa_trainval_flag[ii], oa_test_flag[ii])\n",
    "    TOP_K = 2\n",
    "    \n",
    "    oa_flag1 = np.zeros_like(oa_flag[ii]).astype(np.uint8)\n",
    "    sorted_index = np.argsort(obj_correlation1[ii])\n",
    "    top_k_list = sorted_index[-TOP_K:][::-1]\n",
    "#     oa_flag[ii] = oa_train_flag[ii]\n",
    "    for o in top_k_list:\n",
    "        if o == ii:\n",
    "            continue\n",
    "        oa_flag1 += oa_trainval_flag[o]\n",
    "    oa_flag1 = (oa_flag1 >= 1)\n",
    "        \n",
    "    oa_flag2 = np.zeros_like(oa_flag[ii]).astype(np.uint8)\n",
    "    sorted_index = np.argsort(obj_correlation2[ii])\n",
    "    top_k_list = sorted_index[-TOP_K:][::-1]\n",
    "    for o in top_k_list:\n",
    "        if o == ii:\n",
    "            continue\n",
    "        oa_flag2 += oa_trainval_flag[o]\n",
    "    oa_flag2 = (oa_flag2 >= 1)\n",
    "\n",
    "    oa_flag[ii] = (oa_flag1*oa_flag2) + oa_trainval_flag[ii]\n",
    "    inter_att_aug, union_att_aug = get_att_IoU(oa_flag[ii], oa_test_flag[ii])\n",
    "    if inter_att_aug > inter_att:\n",
    "        output.append([object_index_reversed[ii], inter_att, inter_att_aug])\n",
    "        \n",
    "print(len(output), (oa_flag * oa_test_flag).sum()/oa_test_flag.sum(), oa_flag.sum(), (oa_trainval_flag+oa_test_flag).sum())"
   ]
  },
  {
   "cell_type": "code",
   "execution_count": 895,
   "id": "fd17c6cb",
   "metadata": {},
   "outputs": [
    {
     "name": "stdout",
     "output_type": "stream",
     "text": [
      "515, 2260, 0.22787610619469026\n"
     ]
    }
   ],
   "source": [
    "def get_att_IoU(list1, list2):\n",
    "    inter_att = (list1 & list2).sum()\n",
    "    union_att = (list1 | list2).sum()\n",
    "    return inter_att, union_att\n",
    "\n",
    "# obj_correlation.shape\n",
    "obj_correlation1_norm = normalize_array(obj_correlation1)\n",
    "obj_correlation2_norm = normalize_array(obj_correlation2)\n",
    "obj_correlation = np.maximum(obj_correlation1_norm, obj_correlation2_norm)\n",
    "oa_flag = np.zeros_like(oa_train_flag)\n",
    "output = []\n",
    "for ii in range(num_obj):\n",
    "    inter_att, union_att = get_att_IoU(oa_train_flag[ii], oa_valtest_flag[ii])\n",
    "    TOP_K = 2\n",
    "    sorted_index = np.argsort(obj_correlation[ii])\n",
    "    top_k_list = sorted_index[-TOP_K:][::-1]\n",
    "    best_match = top_k_list[1] if top_k_list[0] == ii else top_k_list[0]\n",
    "    oa_flag[ii] = oa_train_flag[ii] + oa_train_flag[best_match]\n",
    "    inter_att_aug, union_att_aug = get_att_IoU(oa_flag[ii], oa_valtest_flag[ii])\n",
    "#     ((+oa_train_flag[best_match]) & oa_valtest_flag[ii]).sum()\n",
    "#     union_att_aug = ((oa_train_flag[ii]+oa_train_flag[best_match]) | oa_valtest_flag[ii]).sum()\n",
    "#     return inter_att_aug, union_att_aug\n",
    "\n",
    "#     inter_att_aug, union_att_aug = get_att_IoU(ii, obj_correlation[ii])\n",
    "#     inter_att_aug1, union_att_aug1 = get_att_IoU(ii, obj_correlation1[ii])\n",
    "#     inter_att_aug2, union_att_aug2 = get_att_IoU(ii, obj_correlation2[ii])\n",
    "    if inter_att_aug > inter_att:\n",
    "        output.append([object_index_reversed[ii], inter_att, inter_att_aug])\n",
    "\n",
    "print('{0}, {1}, {2}'.format(len(output), num_obj, len(output)/num_obj))"
   ]
  },
  {
   "cell_type": "code",
   "execution_count": 897,
   "id": "bc8a18af",
   "metadata": {},
   "outputs": [
    {
     "data": {
      "text/plain": [
       "(57488, 35292, 1365908)"
      ]
     },
     "execution_count": 897,
     "metadata": {},
     "output_type": "execute_result"
    }
   ],
   "source": [
    "oa_flag.sum(), oa_train_flag.sum(), (oa_train_flag == 0).sum()"
   ]
  },
  {
   "cell_type": "code",
   "execution_count": 901,
   "id": "eb2f8966",
   "metadata": {},
   "outputs": [],
   "source": [
    "# valid_att_per_obj = {}\n",
    "# for ii in range(num_obj):\n",
    "#     valid_att = np.where((oa_flag[ii]) > 0)[0]\n",
    "#     valid_att_list = [attribute_index_reversed[x] for x in valid_att]\n",
    "#     valid_att_per_obj[object_index_reversed[ii]] = valid_att_list"
   ]
  },
  {
   "cell_type": "code",
   "execution_count": 930,
   "id": "ef0dac40",
   "metadata": {},
   "outputs": [],
   "source": [
    "valid_att_per_obj = {}\n",
    "for ii in range(num_obj):\n",
    "    valid_att = np.where((oa_train_flag[ii]+oa_val_flag[ii]) > 0)[0]\n",
    "    valid_att_list = [attribute_index_reversed[x] for x in valid_att]\n",
    "    valid_att_per_obj[object_index_reversed[ii]] = valid_att_list"
   ]
  },
  {
   "cell_type": "markdown",
   "id": "eb3d7572",
   "metadata": {},
   "source": [
    "#### save data"
   ]
  },
  {
   "cell_type": "code",
   "execution_count": 931,
   "id": "aa8e40b5",
   "metadata": {},
   "outputs": [],
   "source": [
    "input_path = '/data/liangkongming/data/vaw_dataset/data'\n",
    "\n",
    "with open(osp.join(input_path, 'train.json')) as f:\n",
    "    anno_train = json.load(f)"
   ]
  },
  {
   "cell_type": "code",
   "execution_count": 932,
   "id": "be8344cb",
   "metadata": {},
   "outputs": [
    {
     "name": "stdout",
     "output_type": "stream",
     "text": [
      "216790\n",
      "216790\n"
     ]
    }
   ],
   "source": [
    "print(len(anno_train))\n",
    "\n",
    "anno_output = []\n",
    "for anno_image in anno_train:\n",
    "    object_name = anno_image['object_name']\n",
    "    positive_attributes = anno_image['positive_attributes']\n",
    "    negative_attributes = anno_image['negative_attributes']\n",
    "    anno_image['candidate_attributes'] = []\n",
    "    valid_att = valid_att_per_obj[object_name]\n",
    "    for att in valid_att:\n",
    "        if att not in positive_attributes and att not in negative_attributes:\n",
    "            anno_image['candidate_attributes'].append(att)\n",
    "    anno_output.append(anno_image)\n",
    "\n",
    "print(len(anno_output))"
   ]
  },
  {
   "cell_type": "code",
   "execution_count": 933,
   "id": "fa18eebc",
   "metadata": {},
   "outputs": [],
   "source": [
    "output_path = '/data/liangkongming/data/vaw_dataset/data-20230206-trainval'\n",
    "with open(osp.join(output_path, 'train.json'), 'w') as f:\n",
    "    json.dump(anno_output, f)"
   ]
  },
  {
   "cell_type": "code",
   "execution_count": 934,
   "id": "64367b33",
   "metadata": {},
   "outputs": [],
   "source": [
    "with open(osp.join(output_path, 'train.json')) as f:\n",
    "    anno_train = json.load(f)"
   ]
  },
  {
   "cell_type": "code",
   "execution_count": 935,
   "id": "20eb5683",
   "metadata": {},
   "outputs": [
    {
     "name": "stdout",
     "output_type": "stream",
     "text": [
      "wall\n",
      "positive_attributes ['tiled', 'white']\n",
      "negative_attributes ['large']\n",
      "candidate_attributes ['amber', 'aqua', 'beige', 'black', 'blue', 'bluish', 'bright blue', 'bright green', 'bright red', 'bright yellow', 'bronze', 'brown', 'burgundy', 'cream colored', 'dark blue', 'dark brown', 'dark gray', 'dark green', 'dark pink', 'dark purple', 'dark red', 'fuchsia', 'golden', 'golden brown', 'gray', 'green', 'ivory', 'light blue', 'light brown', 'light green', 'light gray', 'light red', 'light yellow', 'lime green', 'maroon', 'murky', 'navy blue', 'neon green', 'off white', 'olive green', 'orange', 'pale blue', 'pale green', 'pink', 'purple', 'red', 'reddish', 'rust colored', 'silver', 'tan', 'taupe', 'teal', 'terracotta', 'turquoise', 'violet', 'yellow', 'red lettered', 'wearing white', 'light colored', 'dark colored', 'colorful', 'monochromatic', 'multicolored', 'bright', 'dark', 'high', 'low', 'tall', 'short', 'long', 'wide', 'narrow', 'thin', 'huge', 'small', 'thick', 'asphalt', 'bamboo', 'brick', 'ceramic', 'clay', 'cloth', 'cobblestone', 'concrete', 'fabric', 'glass', 'granite', 'hardwood', 'marble', 'metal', 'plastic', 'red brick', 'rocky', 'rubber', 'sandy', 'steel', 'stone', 'straw', 'stucco', 'wooden', 'arch shaped', 'curved', 'diamond shaped', 'rectangular', 'square', 'slanted', 'blue plaid', 'checkered', 'floral', 'lined', 'patterned', 'polka dotted', 'speckled', 'striped', 'close', 'far away', 'clear', 'sunny', 'indoors', 'outdoors', 'in the background', 'aged', 'old', 'new', 'clean', 'dirty', 'dusty', 'stained', 'heavy', 'translucent', 'jagged', 'moss covered', 'rough', 'smooth', 'textured', 'closed', 'cracked', 'dilapidated', 'empty', 'full', 'open', 'graffitied', 'wallpapered', 'sunlit', 'half', 'worn', 'rusty', 'illuminated', 'stainless', 'digital', 'shiny', 'printed', 'blurry', 'shingled', 'frosted', 'flat', 'modern', 'glossy', 'cushioned', 'filthy', 'reflective', 'shaded', 'damaged', 'leafy', 'decorative', 'flowered', 'faded', 'ornate', 'wavy', 'painted', 'displayed', 'bare', 'carved', 'peeled', 'sheer', 'many', 'broken', 'blank', 'framed', 'plain', 'interior', 'holed', 'ridged', 'chipped', 'numbered']\n"
     ]
    }
   ],
   "source": [
    "data_idx = 6\n",
    "print(anno_train[data_idx]['object_name'])\n",
    "for k in ['positive_attributes', 'negative_attributes', 'candidate_attributes']:\n",
    "    print(k, anno_train[data_idx][k])"
   ]
  },
  {
   "cell_type": "code",
   "execution_count": 926,
   "id": "e67daef4",
   "metadata": {},
   "outputs": [
    {
     "name": "stdout",
     "output_type": "stream",
     "text": [
      "wall\n",
      "positive_attributes ['tiled', 'white']\n",
      "negative_attributes ['large']\n",
      "candidate_attributes ['amber', 'aqua', 'beige', 'black', 'blue', 'bluish', 'bright blue', 'bright green', 'bright red', 'bright yellow', 'bronze', 'brown', 'burgundy', 'cream colored', 'dark blue', 'dark brown', 'dark gray', 'dark green', 'dark pink', 'dark purple', 'dark red', 'fuchsia', 'golden', 'golden brown', 'gray', 'green', 'ivory', 'light blue', 'light brown', 'light green', 'light gray', 'light red', 'light yellow', 'lime green', 'maroon', 'murky', 'navy blue', 'neon green', 'off white', 'olive green', 'orange', 'pale blue', 'pale green', 'pink', 'purple', 'red', 'reddish', 'rust colored', 'silver', 'tan', 'taupe', 'teal', 'terracotta', 'turquoise', 'violet', 'yellow', 'red lettered', 'wearing white', 'light colored', 'dark colored', 'colorful', 'multicolored', 'bright', 'dark', 'high', 'low', 'tall', 'short', 'long', 'wide', 'narrow', 'thin', 'huge', 'small', 'thick', 'bamboo', 'brick', 'ceramic', 'cloth', 'cobblestone', 'concrete', 'fabric', 'glass', 'granite', 'marble', 'metal', 'plastic', 'red brick', 'rocky', 'rubber', 'sandy', 'steel', 'stone', 'straw', 'stucco', 'wooden', 'arch shaped', 'curved', 'rectangular', 'square', 'slanted', 'checkered', 'floral', 'lined', 'patterned', 'striped', 'close', 'far away', 'clear', 'sunny', 'indoors', 'outdoors', 'in the background', 'old', 'new', 'clean', 'dirty', 'dusty', 'stained', 'heavy', 'translucent', 'jagged', 'moss covered', 'rough', 'smooth', 'textured', 'closed', 'cracked', 'dilapidated', 'empty', 'full', 'open', 'graffitied', 'wallpapered', 'sunlit', 'half', 'worn', 'rusty', 'illuminated', 'digital', 'shiny', 'printed', 'blurry', 'shingled', 'frosted', 'flat', 'modern', 'cushioned', 'reflective', 'shaded', 'damaged', 'leafy', 'decorative', 'flowered', 'faded', 'ornate', 'wavy', 'painted', 'displayed', 'bare', 'peeled', 'sheer', 'many', 'broken', 'blank', 'framed', 'plain', 'interior', 'holed', 'ridged', 'chipped', 'numbered']\n"
     ]
    }
   ],
   "source": [
    "data_idx = 6\n",
    "print(anno_train[data_idx]['object_name'])\n",
    "for k in ['positive_attributes', 'negative_attributes', 'candidate_attributes']:\n",
    "    print(k, anno_train[data_idx][k])"
   ]
  },
  {
   "cell_type": "code",
   "execution_count": 928,
   "id": "149d4ba7",
   "metadata": {},
   "outputs": [
    {
     "data": {
      "text/plain": [
       "(172, 175)"
      ]
     },
     "execution_count": 928,
     "metadata": {},
     "output_type": "execute_result"
    }
   ],
   "source": [
    "len(anno_train[data_idx][k]), oa_train_flag[object_index['wall']].sum()"
   ]
  },
  {
   "cell_type": "markdown",
   "id": "ac220715",
   "metadata": {},
   "source": [
    "#### Finnish"
   ]
  },
  {
   "cell_type": "code",
   "execution_count": 852,
   "id": "ffa2048e",
   "metadata": {},
   "outputs": [
    {
     "name": "stdout",
     "output_type": "stream",
     "text": [
      "golden\n",
      "pale green\n",
      "turquoise\n",
      "low\n",
      "huge\n",
      "triangular\n",
      "blue plaid\n",
      "polka dotted\n",
      "red striped\n",
      "hiding\n",
      "aged\n",
      "watery\n",
      "messy\n",
      "flat screen\n",
      "operating\n",
      "daytime\n",
      "christmas\n",
      "neat\n"
     ]
    }
   ],
   "source": [
    "def print_attributes(input_list):\n",
    "    output_list = []\n",
    "    for ii in input_list:\n",
    "        output_list.append(attribute_index_reversed[ii])\n",
    "    print(output_list)\n",
    "        \n",
    "# print_attributes(np.where(oa_train[1117] == True)[0])\n",
    "# print_attributes(np.where(oa_valtest[1117] == True)[0])\n",
    "oa_obj_train = list(np.where(oa_train[1117] == True)[0])\n",
    "oa_obj_valtest = list(np.where(oa_valtest[1117] == True)[0])\n",
    "for x in oa_obj_valtest:\n",
    "    if x not in oa_obj_train:\n",
    "        print(attribute_index_reversed[x])"
   ]
  },
  {
   "cell_type": "markdown",
   "id": "ad40a63b",
   "metadata": {},
   "source": [
    "### 物体类别样本数在train/val/test上的分布"
   ]
  },
  {
   "cell_type": "code",
   "execution_count": 297,
   "id": "79916a2c",
   "metadata": {},
   "outputs": [
    {
     "name": "stdout",
     "output_type": "stream",
     "text": [
      "Total:0.5985515937081969\n",
      "Total:0.6058928862119486\n",
      "Total:0.6233068292529621\n"
     ]
    }
   ],
   "source": [
    "# obj_counter_train.sort()\n",
    "# obj_counter = obj_counter_train + obj_counter_val + obj_counter_test\n",
    "# print(np.where(obj_counter_train  == 0), object_index_reversed[8])\n",
    "# print(len(np.where(obj_counter_train  < 10)[0]))\n",
    "# print(sorted(obj_counter))\n",
    "\n",
    "def find_top_k(input_list, input_index, top_k = 10):\n",
    "    output = ''\n",
    "    total_num = input_list.sum()\n",
    "    sorted_index = np.argsort(input_list)\n",
    "    top_k_list = sorted_index[-top_k:][::-1]\n",
    "#     for x in top_k_list:\n",
    "#         output += '{}:{}, '.format(input_index[x], input_list[x])\n",
    "    output = 'Total:{}'.format(input_list[top_k_list].sum()/total_num)\n",
    "    print(output)\n",
    "    return top_k_list\n",
    "\n",
    "top_k = 100\n",
    "top_k_train = find_top_k(obj_counter_train, object_index_reversed, top_k)\n",
    "top_k_val = find_top_k(obj_counter_val, object_index_reversed, top_k)\n",
    "top_k_test = find_top_k(obj_counter_test, object_index_reversed, top_k)"
   ]
  },
  {
   "cell_type": "code",
   "execution_count": 299,
   "id": "f7a600c1",
   "metadata": {},
   "outputs": [
    {
     "name": "stdout",
     "output_type": "stream",
     "text": [
      "1117 man\n"
     ]
    }
   ],
   "source": [
    "target_object = top_k_train[0]\n",
    "print(target_object, object_index_reversed[target_object])"
   ]
  },
  {
   "cell_type": "code",
   "execution_count": 306,
   "id": "2a417c17",
   "metadata": {},
   "outputs": [
    {
     "name": "stdout",
     "output_type": "stream",
     "text": [
      "a\n"
     ]
    },
    {
     "data": {
      "image/png": "[encoded data removed]",
      "text/plain": [
       "<Figure size 1500x800 with 1 Axes>"
      ]
     },
     "metadata": {},
     "output_type": "display_data"
    }
   ],
   "source": [
    "valid_index = oa_anno_pos_train[target_object].nonzero()[0][::5]\n",
    "valid_names = [attribute_index_reversed[x] for x in valid_index]\n",
    "\n",
    "shops = valid_names\n",
    "sales_product_1 = oa_anno_pos_train[target_object][valid_index]\n",
    "sales_product_2 = oa_anno_neg_train[target_object][valid_index]\n",
    "\n",
    "# 创建分组柱状图，需要自己控制x轴坐标\n",
    "xticks = np.arange(len(valid_names))\n",
    "\n",
    "fig, ax = plt.subplots(figsize=(15, 8))\n",
    "ax.bar(xticks, sales_product_1, width=0.25, label=\"pos\", color=\"red\")\n",
    "\n",
    "# ax.set_title(str(object_index_reversed[x])+': {}'.format(obj_counter[x]), fontsize=15)\n",
    "ax.set_xlabel(\"attributes\")\n",
    "ax.set_ylabel(\"# images\")\n",
    "ax.legend()\n",
    "\n",
    "# 最后调整x轴标签的位置\n",
    "ax.set_xticks(xticks)\n",
    "ax.set_xticklabels(shops, rotation=45)\n",
    "print('a')"
   ]
  },
  {
   "cell_type": "markdown",
   "id": "64544fb7",
   "metadata": {},
   "source": [
    "### 排名靠前的未标注属性是否可以通过类别信息自动标注"
   ]
  },
  {
   "cell_type": "code",
   "execution_count": 345,
   "id": "e042ac5d",
   "metadata": {},
   "outputs": [],
   "source": [
    "pred_ignore_path = '/data/liangkongming/code/KGVA/exp/preds-ignore_224_rn50_obj.npy'\n",
    "pred_negative_path = '/data/liangkongming/code/KGVA/exp/preds-negative_004_224_rn50_obj.npy'\n",
    "preds_ignore = np.load(pred_ignore_path)\n",
    "preds_negative = np.load(pred_negative_path)"
   ]
  },
  {
   "cell_type": "code",
   "execution_count": 374,
   "id": "25051f03",
   "metadata": {},
   "outputs": [],
   "source": [
    "def find_invalid_attribute(preds, image_index, top_k):\n",
    "    anno_image = anno['test'][image_index]\n",
    "    object_name = anno_image['object_name']\n",
    "    positive_attributes = anno_image['positive_attributes']\n",
    "    valid_att_per_obj = np.nonzero(oa_anno_pos_train[object_index[object_name]])[0]\n",
    "    valid_attributes = [attribute_index_reversed[x] for x in valid_att_per_obj]\n",
    "    print(object_name, positive_attributes, '{} valid attributes'.format(len(valid_att_per_obj)))\n",
    "\n",
    "    if top_k == 0:\n",
    "        top_k = len(positive_attributes)\n",
    "    pred_attributes = preds[image_index]\n",
    "    sorted_index = np.argsort(pred_attributes)\n",
    "    top_k_list = sorted_index[-top_k:][::-1]\n",
    "    top_k_attributes = [attribute_index_reversed[x] for x in top_k_list]   \n",
    "#     print(top_k_attributes)\n",
    "\n",
    "    invalid_preds = [x for x in top_k_attributes if x not in valid_attributes]\n",
    "#     print(invalid_preds)\n",
    "    print('invalid attributes: {}/{}'.format(len(invalid_preds), top_k))"
   ]
  },
  {
   "cell_type": "code",
   "execution_count": 386,
   "id": "52e00a24",
   "metadata": {},
   "outputs": [
    {
     "name": "stdout",
     "output_type": "stream",
     "text": [
      "sign ['close', 'arrow shaped', 'yellow'] 119 valid attributes\n",
      "invalid attributes: 7/10\n",
      "sign ['close', 'arrow shaped', 'yellow'] 119 valid attributes\n",
      "invalid attributes: 1/10\n"
     ]
    }
   ],
   "source": [
    "image_index = 1302\n",
    "top_k = 10\n",
    "find_invalid_attribute(preds_ignore, image_index, top_k)\n",
    "find_invalid_attribute(preds_negative, image_index, top_k)"
   ]
  },
  {
   "cell_type": "code",
   "execution_count": 334,
   "id": "25d361ac",
   "metadata": {},
   "outputs": [
    {
     "name": "stdout",
     "output_type": "stream",
     "text": [
      "['puffy', 'indoors', 'aluminum', 'interior', 'chipped', 'adult'] 6 10\n"
     ]
    }
   ],
   "source": []
  },
  {
   "cell_type": "code",
   "execution_count": 339,
   "id": "4f930bac",
   "metadata": {},
   "outputs": [
    {
     "name": "stdout",
     "output_type": "stream",
     "text": [
      "floor ['patterned', 'tiled', 'bare']\n",
      "['tiled', 'beige', 'clean', 'patterned', 'white', 'gray', 'tan', 'brown', 'smooth', 'flat', 'hardwood', 'light colored', 'stone', 'brick', 'cream colored', 'dry', 'speckled', 'shiny', 'long', 'square', 'dotted', 'reflective', 'dirty', 'decorative', 'light brown', 'golden brown', 'mounted', 'yellow', 'large', 'asian', 'spotless', 'hard', 'standing', 'porcelain', 'rectangular', 'ceramic', 'dark colored', 'wooden', 'spotted', 'marble', 'high', 'tight', 'lying', 'old', 'ivory', 'close', 'sunlit', 'modern', 'woven', 'textured']\n"
     ]
    }
   ],
   "source": [
    "# negative\n",
    "image_index = 0\n",
    "top_k = 50\n",
    "\n",
    "anno_image = anno['test'][image_index]\n",
    "object_name = anno_image['object_name']\n",
    "positive_attributes = anno_image['positive_attributes']\n",
    "print(object_name, positive_attributes)\n",
    "pred_attributes = preds[image_index]\n",
    "sorted_index = np.argsort(pred_attributes)\n",
    "top_k_list = sorted_index[-top_k:][::-1]\n",
    "top_k_attributes = [attribute_index_reversed[x] for x in top_k_list]   \n",
    "print(top_k_attributes)"
   ]
  },
  {
   "cell_type": "code",
   "execution_count": 340,
   "id": "b8ce8733",
   "metadata": {},
   "outputs": [
    {
     "name": "stdout",
     "output_type": "stream",
     "text": [
      "105\n"
     ]
    }
   ],
   "source": [
    "valid_att_per_obj = np.nonzero(oa_anno_pos_train[object_index[object_name]])[0]\n",
    "print(len(valid_att_per_obj))\n",
    "valid_attributes = [attribute_index_reversed[x] for x in valid_att_per_obj]"
   ]
  },
  {
   "cell_type": "code",
   "execution_count": 341,
   "id": "ad56a0a4",
   "metadata": {},
   "outputs": [
    {
     "name": "stdout",
     "output_type": "stream",
     "text": [
      "['mounted', 'asian', 'standing', 'porcelain', 'rectangular', 'spotted', 'high', 'tight', 'lying', 'ivory', 'woven'] 11 50\n"
     ]
    }
   ],
   "source": [
    "invalid_preds = [x for x in top_k_attributes if x not in valid_attributes]\n",
    "print(invalid_preds, len(invalid_preds), len(top_k_attributes))"
   ]
  },
  {
   "cell_type": "markdown",
   "id": "4e33e69a",
   "metadata": {},
   "source": [
    "### Next"
   ]
  },
  {
   "cell_type": "code",
   "execution_count": 121,
   "id": "86cb1f3c",
   "metadata": {},
   "outputs": [
    {
     "name": "stdout",
     "output_type": "stream",
     "text": [
      "a\n"
     ]
    },
    {
     "data": {
      "image/png": "[encoded data removed]",
      "text/plain": [
       "<Figure size 1500x800 with 1 Axes>"
      ]
     },
     "metadata": {},
     "output_type": "display_data"
    }
   ],
   "source": [
    "import numpy as np\n",
    "import matplotlib.pyplot as plt\n",
    "\n",
    "%matplotlib inline\n",
    "\n",
    "plt.style.use(\"ggplot\")\n",
    "\n",
    "shops = valid_names\n",
    "sales_product_1 = obj_att_anno_pos[x][valid_index]\n",
    "sales_product_2 = obj_att_anno_neg[x][valid_index]\n",
    "\n",
    "# 创建分组柱状图，需要自己控制x轴坐标\n",
    "xticks = np.arange(len(valid_names))\n",
    "\n",
    "fig, ax = plt.subplots(figsize=(15, 8))\n",
    "# 所有门店第一种产品的销量，注意控制柱子的宽度，这里选择0.25\n",
    "ax.bar(xticks - 0.25/2, sales_product_1, width=0.25, label=\"pos\", color=\"red\")\n",
    "# 所有门店第二种产品的销量，通过微调x轴坐标来调整新增柱子的位置\n",
    "ax.bar(xticks + 0.25/2, sales_product_2, width=0.25, label=\"neg\", color=\"blue\")\n",
    "\n",
    "ax.set_title(str(object_index_reversed[x])+': {}'.format(obj_counter[x]), fontsize=15)\n",
    "ax.set_xlabel(\"attributes\")\n",
    "ax.set_ylabel(\"# images\")\n",
    "ax.legend()\n",
    "\n",
    "# 最后调整x轴标签的位置\n",
    "ax.set_xticks(xticks)\n",
    "ax.set_xticklabels(shops, rotation=45)\n",
    "print('a')"
   ]
  },
  {
   "cell_type": "code",
   "execution_count": 95,
   "id": "3d16cfb2",
   "metadata": {},
   "outputs": [
    {
     "data": {
      "text/plain": [
       "array([ 0,  1,  2,  3,  4,  5,  6,  7,  8,  9, 10, 11, 12, 13, 14, 15, 16,\n",
       "       17])"
      ]
     },
     "execution_count": 95,
     "metadata": {},
     "output_type": "execute_result"
    }
   ],
   "source": [
    "xticks"
   ]
  },
  {
   "cell_type": "code",
   "execution_count": null,
   "id": "b51477b3",
   "metadata": {},
   "outputs": [],
   "source": [
    "print('=== Pos: ===')\n",
    "for y in obj_att_anno_pos[x].nonzero()[0]:\n",
    "    print(attribute_index_reversed[y])\n",
    "    \n",
    "print('=== Neg: ===')\n",
    "for y in obj_att_anno_neg[x].nonzero()[0]:\n",
    "    print(attribute_index_reversed[y])"
   ]
  }
 ],
 "metadata": {
  "kernelspec": {
   "display_name": "kgva",
   "language": "python",
   "name": "kgva"
  },
  "language_info": {
   "codemirror_mode": {
    "name": "ipython",
    "version": 3
   },
   "file_extension": ".py",
   "mimetype": "text/x-python",
   "name": "python",
   "nbconvert_exporter": "python",
   "pygments_lexer": "ipython3",
   "version": "3.8.15"
  },
  "toc": {
   "base_numbering": 1,
   "nav_menu": {},
   "number_sections": true,
   "sideBar": true,
   "skip_h1_title": false,
   "title_cell": "Table of Contents",
   "title_sidebar": "Contents",
   "toc_cell": false,
   "toc_position": {
    "height": "762px",
    "left": "241px",
    "top": "115px",
    "width": "444.73px"
   },
   "toc_section_display": true,
   "toc_window_display": true
  }
 },
 "nbformat": 4,
 "nbformat_minor": 5
}
